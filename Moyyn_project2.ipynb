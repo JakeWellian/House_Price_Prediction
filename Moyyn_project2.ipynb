{
 "cells": [
  {
   "cell_type": "markdown",
   "id": "86b8e750",
   "metadata": {},
   "source": [
    "# Analyse AB test result\n",
    "\n",
    "## Project by Manoel Revez, Lucía Olmos, Zongyue Guo, and Jake Wellian"
   ]
  },
  {
   "cell_type": "markdown",
   "id": "12db38b4",
   "metadata": {},
   "source": [
    "### Objective\n",
    "\n",
    "- An e-commerce company created a new web-page for a product, expecting customer conversion to increase. As part of their strategy they conducted an AB test. Based on the results, they would like to know if they should implement the new web-page? Or should they not? Or should they run the test longer?\n",
    "- They also wanted us to build a machine learning model to predict if the user was part of the control group or the treatment group."
   ]
  },
  {
   "cell_type": "markdown",
   "id": "aba9f41d",
   "metadata": {},
   "source": [
    "### Summary\n",
    "\n",
    "- We compared the performance of the two websites using the t-test and p-value method. The result was a t-score of -0.85 and p-score of 0.39. \n",
    "- We concluded that switching to the new web page wouldn't have a significant difference on the user experience. And given that the t-test was -0.85, it is advised to continue with the old web page as is.\n",
    "\n",
    "\n",
    "- With our machine learning model we found that both the XGBoost model and Adaboost model had the same accuracy score. With a F1_score of 0.987 either model could be used for future prediction."
   ]
  },
  {
   "cell_type": "markdown",
   "id": "140edb09",
   "metadata": {},
   "source": [
    "### Data Overview"
   ]
  },
  {
   "cell_type": "code",
   "execution_count": 1,
   "id": "a3083ab7",
   "metadata": {},
   "outputs": [],
   "source": [
    "# Import libraries\n",
    "\n",
    "#Libraries for EDA and visualizations\n",
    "import pandas as pd\n",
    "import numpy as np\n",
    "import seaborn as sns\n",
    "import matplotlib.pyplot as plt\n",
    "import matplotlib.ticker as tick\n",
    "import datetime\n",
    "from datetime import timedelta"
   ]
  },
  {
   "cell_type": "code",
   "execution_count": 2,
   "id": "917eb6ce",
   "metadata": {},
   "outputs": [],
   "source": [
    "df_user = pd.read_csv(\"ab_data.csv\") # user data"
   ]
  },
  {
   "cell_type": "code",
   "execution_count": 3,
   "id": "d8c48e0a",
   "metadata": {},
   "outputs": [],
   "source": [
    "df_countries = pd.read_csv(\"countries.csv\") # country data"
   ]
  },
  {
   "cell_type": "code",
   "execution_count": 4,
   "id": "c0a619fb",
   "metadata": {},
   "outputs": [
    {
     "data": {
      "text/plain": [
       "(294480, 5)"
      ]
     },
     "execution_count": 4,
     "metadata": {},
     "output_type": "execute_result"
    }
   ],
   "source": [
    "# User data has 294'480 rows and 5 columns\n",
    "df_user.shape"
   ]
  },
  {
   "cell_type": "code",
   "execution_count": 5,
   "id": "162841b5",
   "metadata": {},
   "outputs": [
    {
     "data": {
      "text/plain": [
       "(290586, 2)"
      ]
     },
     "execution_count": 5,
     "metadata": {},
     "output_type": "execute_result"
    }
   ],
   "source": [
    "# User data has 290'586 rows and 2 columns\n",
    "df_countries.shape"
   ]
  },
  {
   "cell_type": "code",
   "execution_count": 6,
   "id": "d40288aa",
   "metadata": {},
   "outputs": [
    {
     "data": {
      "text/html": [
       "<div>\n",
       "<style scoped>\n",
       "    .dataframe tbody tr th:only-of-type {\n",
       "        vertical-align: middle;\n",
       "    }\n",
       "\n",
       "    .dataframe tbody tr th {\n",
       "        vertical-align: top;\n",
       "    }\n",
       "\n",
       "    .dataframe thead th {\n",
       "        text-align: right;\n",
       "    }\n",
       "</style>\n",
       "<table border=\"1\" class=\"dataframe\">\n",
       "  <thead>\n",
       "    <tr style=\"text-align: right;\">\n",
       "      <th></th>\n",
       "      <th>user_id</th>\n",
       "      <th>timestamp</th>\n",
       "      <th>group</th>\n",
       "      <th>landing_page</th>\n",
       "      <th>converted</th>\n",
       "    </tr>\n",
       "  </thead>\n",
       "  <tbody>\n",
       "    <tr>\n",
       "      <th>273544</th>\n",
       "      <td>898080</td>\n",
       "      <td>11:48.5</td>\n",
       "      <td>control</td>\n",
       "      <td>old_page</td>\n",
       "      <td>0</td>\n",
       "    </tr>\n",
       "    <tr>\n",
       "      <th>285225</th>\n",
       "      <td>699812</td>\n",
       "      <td>29:47.1</td>\n",
       "      <td>treatment</td>\n",
       "      <td>new_page</td>\n",
       "      <td>0</td>\n",
       "    </tr>\n",
       "    <tr>\n",
       "      <th>209922</th>\n",
       "      <td>744689</td>\n",
       "      <td>39:45.3</td>\n",
       "      <td>control</td>\n",
       "      <td>old_page</td>\n",
       "      <td>0</td>\n",
       "    </tr>\n",
       "    <tr>\n",
       "      <th>92036</th>\n",
       "      <td>688039</td>\n",
       "      <td>33:07.7</td>\n",
       "      <td>control</td>\n",
       "      <td>old_page</td>\n",
       "      <td>0</td>\n",
       "    </tr>\n",
       "    <tr>\n",
       "      <th>2</th>\n",
       "      <td>661590</td>\n",
       "      <td>55:06.2</td>\n",
       "      <td>treatment</td>\n",
       "      <td>new_page</td>\n",
       "      <td>0</td>\n",
       "    </tr>\n",
       "    <tr>\n",
       "      <th>117789</th>\n",
       "      <td>861065</td>\n",
       "      <td>18:54.2</td>\n",
       "      <td>control</td>\n",
       "      <td>old_page</td>\n",
       "      <td>0</td>\n",
       "    </tr>\n",
       "    <tr>\n",
       "      <th>83378</th>\n",
       "      <td>904249</td>\n",
       "      <td>39:32.8</td>\n",
       "      <td>control</td>\n",
       "      <td>old_page</td>\n",
       "      <td>0</td>\n",
       "    </tr>\n",
       "    <tr>\n",
       "      <th>221748</th>\n",
       "      <td>936298</td>\n",
       "      <td>12:53.3</td>\n",
       "      <td>control</td>\n",
       "      <td>old_page</td>\n",
       "      <td>0</td>\n",
       "    </tr>\n",
       "    <tr>\n",
       "      <th>163538</th>\n",
       "      <td>899661</td>\n",
       "      <td>07:32.2</td>\n",
       "      <td>control</td>\n",
       "      <td>old_page</td>\n",
       "      <td>0</td>\n",
       "    </tr>\n",
       "    <tr>\n",
       "      <th>130956</th>\n",
       "      <td>918256</td>\n",
       "      <td>23:22.5</td>\n",
       "      <td>control</td>\n",
       "      <td>old_page</td>\n",
       "      <td>0</td>\n",
       "    </tr>\n",
       "  </tbody>\n",
       "</table>\n",
       "</div>"
      ],
      "text/plain": [
       "        user_id timestamp      group landing_page  converted\n",
       "273544   898080   11:48.5    control     old_page          0\n",
       "285225   699812   29:47.1  treatment     new_page          0\n",
       "209922   744689   39:45.3    control     old_page          0\n",
       "92036    688039   33:07.7    control     old_page          0\n",
       "2        661590   55:06.2  treatment     new_page          0\n",
       "117789   861065   18:54.2    control     old_page          0\n",
       "83378    904249   39:32.8    control     old_page          0\n",
       "221748   936298   12:53.3    control     old_page          0\n",
       "163538   899661   07:32.2    control     old_page          0\n",
       "130956   918256   23:22.5    control     old_page          0"
      ]
     },
     "execution_count": 6,
     "metadata": {},
     "output_type": "execute_result"
    }
   ],
   "source": [
    "df_user.sample(10)"
   ]
  },
  {
   "cell_type": "markdown",
   "id": "92c23bc4",
   "metadata": {},
   "source": [
    "- User data has information about the following:\n",
    "    - User_id\n",
    "    - timestap: time spent on the web page\n",
    "    - group: if user was part of the control or treatment group\n",
    "    - landing_page: if user spent time on the old page or new page\n",
    "    - converted: user prefers the other web page"
   ]
  },
  {
   "cell_type": "code",
   "execution_count": 7,
   "id": "24e069d7",
   "metadata": {},
   "outputs": [
    {
     "data": {
      "text/html": [
       "<div>\n",
       "<style scoped>\n",
       "    .dataframe tbody tr th:only-of-type {\n",
       "        vertical-align: middle;\n",
       "    }\n",
       "\n",
       "    .dataframe tbody tr th {\n",
       "        vertical-align: top;\n",
       "    }\n",
       "\n",
       "    .dataframe thead th {\n",
       "        text-align: right;\n",
       "    }\n",
       "</style>\n",
       "<table border=\"1\" class=\"dataframe\">\n",
       "  <thead>\n",
       "    <tr style=\"text-align: right;\">\n",
       "      <th></th>\n",
       "      <th>user_id</th>\n",
       "      <th>country</th>\n",
       "    </tr>\n",
       "  </thead>\n",
       "  <tbody>\n",
       "    <tr>\n",
       "      <th>50322</th>\n",
       "      <td>717991</td>\n",
       "      <td>US</td>\n",
       "    </tr>\n",
       "    <tr>\n",
       "      <th>69449</th>\n",
       "      <td>790282</td>\n",
       "      <td>US</td>\n",
       "    </tr>\n",
       "    <tr>\n",
       "      <th>275283</th>\n",
       "      <td>721268</td>\n",
       "      <td>US</td>\n",
       "    </tr>\n",
       "    <tr>\n",
       "      <th>155084</th>\n",
       "      <td>683852</td>\n",
       "      <td>US</td>\n",
       "    </tr>\n",
       "    <tr>\n",
       "      <th>244751</th>\n",
       "      <td>758707</td>\n",
       "      <td>UK</td>\n",
       "    </tr>\n",
       "    <tr>\n",
       "      <th>80772</th>\n",
       "      <td>778053</td>\n",
       "      <td>US</td>\n",
       "    </tr>\n",
       "    <tr>\n",
       "      <th>255567</th>\n",
       "      <td>881341</td>\n",
       "      <td>UK</td>\n",
       "    </tr>\n",
       "    <tr>\n",
       "      <th>174176</th>\n",
       "      <td>689375</td>\n",
       "      <td>US</td>\n",
       "    </tr>\n",
       "    <tr>\n",
       "      <th>170959</th>\n",
       "      <td>894265</td>\n",
       "      <td>US</td>\n",
       "    </tr>\n",
       "    <tr>\n",
       "      <th>260250</th>\n",
       "      <td>830509</td>\n",
       "      <td>US</td>\n",
       "    </tr>\n",
       "  </tbody>\n",
       "</table>\n",
       "</div>"
      ],
      "text/plain": [
       "        user_id country\n",
       "50322    717991      US\n",
       "69449    790282      US\n",
       "275283   721268      US\n",
       "155084   683852      US\n",
       "244751   758707      UK\n",
       "80772    778053      US\n",
       "255567   881341      UK\n",
       "174176   689375      US\n",
       "170959   894265      US\n",
       "260250   830509      US"
      ]
     },
     "execution_count": 7,
     "metadata": {},
     "output_type": "execute_result"
    }
   ],
   "source": [
    "df_countries.sample(10)"
   ]
  },
  {
   "cell_type": "markdown",
   "id": "feec21f3",
   "metadata": {},
   "source": [
    "- User data has information about the following:\n",
    "    - User_id\n",
    "    - country"
   ]
  },
  {
   "cell_type": "code",
   "execution_count": 8,
   "id": "b50e2adf",
   "metadata": {},
   "outputs": [
    {
     "name": "stdout",
     "output_type": "stream",
     "text": [
      "<class 'pandas.core.frame.DataFrame'>\n",
      "RangeIndex: 294480 entries, 0 to 294479\n",
      "Data columns (total 5 columns):\n",
      " #   Column        Non-Null Count   Dtype \n",
      "---  ------        --------------   ----- \n",
      " 0   user_id       294480 non-null  int64 \n",
      " 1   timestamp     294480 non-null  object\n",
      " 2   group         294480 non-null  object\n",
      " 3   landing_page  294480 non-null  object\n",
      " 4   converted     294480 non-null  int64 \n",
      "dtypes: int64(2), object(3)\n",
      "memory usage: 11.2+ MB\n"
     ]
    }
   ],
   "source": [
    "df_user.info()"
   ]
  },
  {
   "cell_type": "markdown",
   "id": "a0e8392b",
   "metadata": {},
   "source": [
    "- There are 2 numerical columns in this dataset and 3 non-numerical columns.\n",
    "- A few of these columns are the wrong data type\n",
    "    - User_id should be a string not an interger\n",
    "    - timestamp should be a date not a string\n",
    "    - converted should be a boolean"
   ]
  },
  {
   "cell_type": "code",
   "execution_count": 9,
   "id": "7e7da184",
   "metadata": {},
   "outputs": [
    {
     "name": "stdout",
     "output_type": "stream",
     "text": [
      "<class 'pandas.core.frame.DataFrame'>\n",
      "RangeIndex: 290586 entries, 0 to 290585\n",
      "Data columns (total 2 columns):\n",
      " #   Column   Non-Null Count   Dtype \n",
      "---  ------   --------------   ----- \n",
      " 0   user_id  290586 non-null  int64 \n",
      " 1   country  290586 non-null  object\n",
      "dtypes: int64(1), object(1)\n",
      "memory usage: 4.4+ MB\n"
     ]
    }
   ],
   "source": [
    "df_countries.info()"
   ]
  },
  {
   "cell_type": "markdown",
   "id": "83901037",
   "metadata": {},
   "source": [
    "- There is 1 numerical columns in this dataset and 1 non-numerical column.\n",
    "    - User_id should be a string not an interger"
   ]
  },
  {
   "cell_type": "markdown",
   "id": "bc90af70",
   "metadata": {},
   "source": [
    "### Data Pre-processing"
   ]
  },
  {
   "cell_type": "markdown",
   "id": "e99680db",
   "metadata": {},
   "source": [
    "#### Changing data types"
   ]
  },
  {
   "cell_type": "code",
   "execution_count": 10,
   "id": "4ad4f44f",
   "metadata": {},
   "outputs": [],
   "source": [
    "#Changing user_id to the a string\n",
    "df_user[\"user_id\"] = df_user.user_id.astype(str)\n",
    "df_countries[\"user_id\"] = df_countries.user_id.astype(str)\n",
    "\n",
    "#Chaing converted to a boolean\n",
    "df_user[\"converted\"] = df_user.converted.astype(bool)"
   ]
  },
  {
   "cell_type": "code",
   "execution_count": 11,
   "id": "0dc3b78f",
   "metadata": {},
   "outputs": [],
   "source": [
    "#Changing timestap to a duration\n",
    "df_user[['minutes', 'seconds']] = df_user['timestamp'].str.split(':', expand=True)\n",
    "\n",
    "\n",
    "df_user[\"minutes\"] = df_user.minutes.astype(\"int64\")\n",
    "df_user[\"seconds\"] = df_user.seconds.astype(float)\n",
    "\n",
    "#New Column Duration\n",
    "df_user[\"duration (in seconds)\"] = df_user[\"seconds\"] + (df_user[\"minutes\"] * 60)"
   ]
  },
  {
   "cell_type": "code",
   "execution_count": 12,
   "id": "3b7fab7f",
   "metadata": {},
   "outputs": [],
   "source": [
    "# Drop columns used for timestamp conversation\n",
    "df_user = df_user.drop([\"timestamp\",\"minutes\",\"seconds\"], axis = 1)"
   ]
  },
  {
   "cell_type": "code",
   "execution_count": 13,
   "id": "0c12fe40",
   "metadata": {},
   "outputs": [
    {
     "data": {
      "text/html": [
       "<div>\n",
       "<style scoped>\n",
       "    .dataframe tbody tr th:only-of-type {\n",
       "        vertical-align: middle;\n",
       "    }\n",
       "\n",
       "    .dataframe tbody tr th {\n",
       "        vertical-align: top;\n",
       "    }\n",
       "\n",
       "    .dataframe thead th {\n",
       "        text-align: right;\n",
       "    }\n",
       "</style>\n",
       "<table border=\"1\" class=\"dataframe\">\n",
       "  <thead>\n",
       "    <tr style=\"text-align: right;\">\n",
       "      <th></th>\n",
       "      <th>user_id</th>\n",
       "      <th>group</th>\n",
       "      <th>landing_page</th>\n",
       "      <th>converted</th>\n",
       "      <th>duration (in seconds)</th>\n",
       "    </tr>\n",
       "  </thead>\n",
       "  <tbody>\n",
       "    <tr>\n",
       "      <th>0</th>\n",
       "      <td>851104</td>\n",
       "      <td>control</td>\n",
       "      <td>old_page</td>\n",
       "      <td>False</td>\n",
       "      <td>708.6</td>\n",
       "    </tr>\n",
       "    <tr>\n",
       "      <th>1</th>\n",
       "      <td>804228</td>\n",
       "      <td>control</td>\n",
       "      <td>old_page</td>\n",
       "      <td>False</td>\n",
       "      <td>105.2</td>\n",
       "    </tr>\n",
       "    <tr>\n",
       "      <th>2</th>\n",
       "      <td>661590</td>\n",
       "      <td>treatment</td>\n",
       "      <td>new_page</td>\n",
       "      <td>False</td>\n",
       "      <td>3306.2</td>\n",
       "    </tr>\n",
       "    <tr>\n",
       "      <th>3</th>\n",
       "      <td>853541</td>\n",
       "      <td>treatment</td>\n",
       "      <td>new_page</td>\n",
       "      <td>False</td>\n",
       "      <td>1683.1</td>\n",
       "    </tr>\n",
       "    <tr>\n",
       "      <th>4</th>\n",
       "      <td>864975</td>\n",
       "      <td>control</td>\n",
       "      <td>old_page</td>\n",
       "      <td>True</td>\n",
       "      <td>3146.2</td>\n",
       "    </tr>\n",
       "    <tr>\n",
       "      <th>5</th>\n",
       "      <td>936923</td>\n",
       "      <td>control</td>\n",
       "      <td>old_page</td>\n",
       "      <td>False</td>\n",
       "      <td>1249.1</td>\n",
       "    </tr>\n",
       "    <tr>\n",
       "      <th>6</th>\n",
       "      <td>679687</td>\n",
       "      <td>treatment</td>\n",
       "      <td>new_page</td>\n",
       "      <td>True</td>\n",
       "      <td>1606.9</td>\n",
       "    </tr>\n",
       "    <tr>\n",
       "      <th>7</th>\n",
       "      <td>719014</td>\n",
       "      <td>control</td>\n",
       "      <td>old_page</td>\n",
       "      <td>False</td>\n",
       "      <td>2909.5</td>\n",
       "    </tr>\n",
       "    <tr>\n",
       "      <th>8</th>\n",
       "      <td>817355</td>\n",
       "      <td>treatment</td>\n",
       "      <td>new_page</td>\n",
       "      <td>True</td>\n",
       "      <td>3489.0</td>\n",
       "    </tr>\n",
       "    <tr>\n",
       "      <th>9</th>\n",
       "      <td>839785</td>\n",
       "      <td>treatment</td>\n",
       "      <td>new_page</td>\n",
       "      <td>True</td>\n",
       "      <td>666.6</td>\n",
       "    </tr>\n",
       "  </tbody>\n",
       "</table>\n",
       "</div>"
      ],
      "text/plain": [
       "  user_id      group landing_page  converted  duration (in seconds)\n",
       "0  851104    control     old_page      False                  708.6\n",
       "1  804228    control     old_page      False                  105.2\n",
       "2  661590  treatment     new_page      False                 3306.2\n",
       "3  853541  treatment     new_page      False                 1683.1\n",
       "4  864975    control     old_page       True                 3146.2\n",
       "5  936923    control     old_page      False                 1249.1\n",
       "6  679687  treatment     new_page       True                 1606.9\n",
       "7  719014    control     old_page      False                 2909.5\n",
       "8  817355  treatment     new_page       True                 3489.0\n",
       "9  839785  treatment     new_page       True                  666.6"
      ]
     },
     "execution_count": 13,
     "metadata": {},
     "output_type": "execute_result"
    }
   ],
   "source": [
    "df_user.head(10)"
   ]
  },
  {
   "cell_type": "code",
   "execution_count": 14,
   "id": "1b27ad09",
   "metadata": {},
   "outputs": [
    {
     "name": "stdout",
     "output_type": "stream",
     "text": [
      "<class 'pandas.core.frame.DataFrame'>\n",
      "RangeIndex: 294480 entries, 0 to 294479\n",
      "Data columns (total 5 columns):\n",
      " #   Column                 Non-Null Count   Dtype  \n",
      "---  ------                 --------------   -----  \n",
      " 0   user_id                294480 non-null  object \n",
      " 1   group                  294480 non-null  object \n",
      " 2   landing_page           294480 non-null  object \n",
      " 3   converted              294480 non-null  bool   \n",
      " 4   duration (in seconds)  294480 non-null  float64\n",
      "dtypes: bool(1), float64(1), object(3)\n",
      "memory usage: 9.3+ MB\n"
     ]
    }
   ],
   "source": [
    "df_user.info()"
   ]
  },
  {
   "cell_type": "markdown",
   "id": "8ea3ee46",
   "metadata": {},
   "source": [
    "#### Joining dataframes"
   ]
  },
  {
   "cell_type": "code",
   "execution_count": 15,
   "id": "7865d238",
   "metadata": {},
   "outputs": [],
   "source": [
    "# Group the two dataframes together using a join\n",
    "\n",
    "df = pd.merge(df_user, df_countries, on='user_id', how='inner')"
   ]
  },
  {
   "cell_type": "code",
   "execution_count": 16,
   "id": "69164f69",
   "metadata": {
    "scrolled": true
   },
   "outputs": [
    {
     "data": {
      "text/plain": [
       "user_id                  0\n",
       "group                    0\n",
       "landing_page             0\n",
       "converted                0\n",
       "duration (in seconds)    0\n",
       "country                  0\n",
       "dtype: int64"
      ]
     },
     "execution_count": 16,
     "metadata": {},
     "output_type": "execute_result"
    }
   ],
   "source": [
    "# Checking null values\n",
    "df.isna().sum()"
   ]
  },
  {
   "cell_type": "markdown",
   "id": "38f5059a",
   "metadata": {},
   "source": [
    "### Exploratory Data Analysis"
   ]
  },
  {
   "cell_type": "code",
   "execution_count": 57,
   "id": "f12f10fa",
   "metadata": {},
   "outputs": [
    {
     "data": {
      "image/png": "[encoded data removed]",
      "text/plain": [
       "<Figure size 864x504 with 1 Axes>"
      ]
     },
     "metadata": {
      "needs_background": "light"
     },
     "output_type": "display_data"
    }
   ],
   "source": [
    "# Comparing number of samples between the control and treatment group\n",
    "plt.figure(figsize=(12,7))\n",
    "\n",
    "ax= sns.countplot(data=df, x=\"group\", hue=\"country\",)\n",
    "ax.set(xlabel='Group', ylabel='Count')\n",
    "\n",
    "plt.title(\"Number of samples between control and treatment group\", y=1.1, fontsize=18)\n",
    "\n",
    "for p in ax.patches:\n",
    "    ax.annotate(f'{p.get_height()}', (p.get_x() + p.get_width() / 2., p.get_height()),\n",
    "                ha='center', va='center', xytext=(0, 10), textcoords='offset points')"
   ]
  },
  {
   "cell_type": "markdown",
   "id": "80d89549",
   "metadata": {},
   "source": [
    "- Number of samples is almost the same for both groups. This will be very helpful for our A/B testing"
   ]
  },
  {
   "cell_type": "code",
   "execution_count": 58,
   "id": "ae3b70b3",
   "metadata": {},
   "outputs": [
    {
     "data": {
      "image/png": "[encoded data removed]",
      "text/plain": [
       "<Figure size 864x504 with 1 Axes>"
      ]
     },
     "metadata": {
      "needs_background": "light"
     },
     "output_type": "display_data"
    }
   ],
   "source": [
    "# How many people converted?\n",
    "plt.figure(figsize=(12,7))\n",
    "\n",
    "ax= sns.countplot(data=df, x=\"group\", hue=\"converted\",)\n",
    "ax.set(xlabel='Group', ylabel='Count')\n",
    "\n",
    "plt.title(\"Comparing number of users who converted\", y=1.1, fontsize=18)\n",
    "\n",
    "for p in ax.patches:\n",
    "    ax.annotate(f'{p.get_height()}', (p.get_x() + p.get_width() / 2., p.get_height()),\n",
    "                ha='center', va='center', xytext=(0, 10), textcoords='offset points')"
   ]
  },
  {
   "cell_type": "markdown",
   "id": "8e49160a",
   "metadata": {},
   "source": [
    "- The large majority of users did not convert.\n",
    "- We can also notice that the number of people from the control group who converted to the new website was the same ratio as those from the treatment group who moved to the old website."
   ]
  },
  {
   "cell_type": "markdown",
   "id": "fc83c17d",
   "metadata": {},
   "source": [
    "- Number of samples is almost the same for both groups. This will be very helpful for our A/B testing"
   ]
  },
  {
   "cell_type": "code",
   "execution_count": 59,
   "id": "22e4c533",
   "metadata": {},
   "outputs": [
    {
     "data": {
      "text/plain": [
       "Text(0.5, 1.0, 'Relationship between time spent on web page and the group')"
      ]
     },
     "execution_count": 59,
     "metadata": {},
     "output_type": "execute_result"
    },
    {
     "data": {
      "image/png": "[encoded data removed]",
      "text/plain": [
       "<Figure size 1440x720 with 1 Axes>"
      ]
     },
     "metadata": {
      "needs_background": "light"
     },
     "output_type": "display_data"
    }
   ],
   "source": [
    "# Correlation between time spent on web page and group\n",
    "plt.figure(figsize=(20,10))\n",
    "sns.boxplot(data=df,x=\"group\",y=\"duration (in seconds)\")\n",
    "ax = plt.gca()\n",
    "plt.title(\"Relationship between time spent on web page and the group\", fontsize=18)"
   ]
  },
  {
   "cell_type": "markdown",
   "id": "1f480346",
   "metadata": {},
   "source": [
    "- We can see that the duration spent is nearly identical for both groups."
   ]
  },
  {
   "cell_type": "markdown",
   "id": "da22192a",
   "metadata": {},
   "source": [
    "### A/B Testing\n",
    "\n",
    "- Our problem is to find out if the e-commerce company implement the new web page?\n",
    "\n",
    "- The first method we will use is A/B testing. Here are the steps to perform A/B testing:\n",
    "    - Step 1: Define the null and alternate hypotheses\n",
    "    - Step 2: Select Appropriate test\n",
    "    - Step 3: Decide the significance level\n",
    "    - Step 4: Calculation\n",
    "    - Step 7: Draw inference"
   ]
  },
  {
   "cell_type": "markdown",
   "id": "3b4afd82",
   "metadata": {},
   "source": [
    "#### Step 1: Define the null and alternate hypotheses\n",
    "\n",
    "Let $\\mu_1, \\mu_2$ be the time spent on the old landing page and the new landing page respectively.\n",
    "\n",
    "We will test the null hypothesis\n",
    "\n",
    ">$H_0:\\mu_1=\\mu_2$\n",
    "\n",
    "against the alternate hypothesis\n",
    "\n",
    ">$H_a:\\mu_1\\neq\\mu_2$"
   ]
  },
  {
   "cell_type": "markdown",
   "id": "f24a017d",
   "metadata": {},
   "source": [
    "#### Step 2: Select Appropriate test"
   ]
  },
  {
   "cell_type": "code",
   "execution_count": 17,
   "id": "af603749",
   "metadata": {},
   "outputs": [
    {
     "data": {
      "text/plain": [
       "treatment    147280\n",
       "control      147202\n",
       "Name: group, dtype: int64"
      ]
     },
     "execution_count": 17,
     "metadata": {},
     "output_type": "execute_result"
    }
   ],
   "source": [
    "# Comparing variance between the two test groups\n",
    "df[\"group\"].value_counts()"
   ]
  },
  {
   "cell_type": "markdown",
   "id": "d7ec6e37",
   "metadata": {},
   "source": [
    "- We have a large sample sizes and the variances are approximately equal. We can therefore perform a standard t-test"
   ]
  },
  {
   "cell_type": "code",
   "execution_count": 18,
   "id": "0b24f90f",
   "metadata": {},
   "outputs": [],
   "source": [
    "# Import library for t-test\n",
    "from scipy.stats import ttest_ind"
   ]
  },
  {
   "cell_type": "markdown",
   "id": "0c86315b",
   "metadata": {},
   "source": [
    "#### Step 3: Decide the significance level\n",
    "\n",
    "$\\alpha$ 0.05 significance level"
   ]
  },
  {
   "cell_type": "markdown",
   "id": "a4306642",
   "metadata": {},
   "source": [
    "#### Step 4: Calculation "
   ]
  },
  {
   "cell_type": "code",
   "execution_count": 19,
   "id": "dff4e812",
   "metadata": {},
   "outputs": [
    {
     "name": "stdout",
     "output_type": "stream",
     "text": [
      "t-statistic: -0.854423446511135\n",
      "p-value: 0.3928711043741553\n"
     ]
    }
   ],
   "source": [
    "# Separate the durations for each group\n",
    "treatment_durations = df[df['group'] == 'treatment']['duration (in seconds)']\n",
    "control_durations = df[df['group'] == 'control']['duration (in seconds)']\n",
    "\n",
    "# Perform a two-sample t-test\n",
    "t_stat, p_value = ttest_ind(treatment_durations, control_durations, equal_var=True)\n",
    "\n",
    "# Display the results\n",
    "print(\"t-statistic:\", t_stat)\n",
    "print(\"p-value:\", p_value)"
   ]
  },
  {
   "cell_type": "markdown",
   "id": "3a0a9e37",
   "metadata": {},
   "source": [
    "#### Step 4: Draw Inference \n",
    "\n",
    "- The result for the t-test was -0.85. These means that the control group spent more time on the old website versus the treatment group on the new website.\n",
    "\n",
    "\n",
    "\n",
    "- The result for the p-test was 0.39. As number this is greater than 0.05 we fail to reject the null hypothesis and cannot conclude a significant difference between the two web pages.\n",
    "- Testing the hypothesis further by sampling additional data is unlikely to make a difference since the t-test and p-value are based on metrics for a large sample size (n > 145000). It is therefore not recommended to continue with testing.\n",
    "\n",
    "\n",
    "- As a conclusion switching to the new web page wouldn't have a significant difference on the user experience. And given that the t-test was -0.85, it is advised to continue with the old web page as is."
   ]
  },
  {
   "cell_type": "markdown",
   "id": "9acdde03",
   "metadata": {},
   "source": [
    "### Machine Learning"
   ]
  },
  {
   "cell_type": "markdown",
   "id": "0cbd1ad0",
   "metadata": {},
   "source": [
    "#### About method"
   ]
  },
  {
   "cell_type": "code",
   "execution_count": 265,
   "id": "184a24ff",
   "metadata": {},
   "outputs": [],
   "source": [
    "# Import libaries for modelling\n",
    "\n",
    "from sklearn import metrics\n",
    "# To tune model, get different metric scores, and split data\n",
    "from sklearn.metrics import (\n",
    "    f1_score,\n",
    "    accuracy_score,\n",
    "    recall_score,\n",
    "    precision_score,\n",
    "    confusion_matrix,\n",
    "    roc_auc_score,\n",
    "    plot_confusion_matrix,\n",
    ")\n",
    "from sklearn.model_selection import train_test_split, StratifiedKFold, cross_val_score\n",
    "\n",
    "from sklearn.compose import TransformedTargetRegressor\n",
    "from sklearn.preprocessing import QuantileTransformer\n",
    "\n",
    "# to check model performance\n",
    "from sklearn.metrics import mean_absolute_error, mean_squared_error, r2_score, mean_absolute_percentage_error\n",
    "\n",
    "# To be used for data scaling and one hot encoding\n",
    "from sklearn.preprocessing import StandardScaler, MinMaxScaler, OneHotEncoder\n",
    "\n",
    "# To impute missing values\n",
    "from sklearn.impute import SimpleImputer\n",
    "from sklearn.impute import KNNImputer\n",
    "\n",
    "# To do hyperparameter tuning\n",
    "from sklearn.model_selection import RandomizedSearchCV\n",
    "from sklearn.model_selection import GridSearchCV\n",
    "from sklearn.feature_selection import RFE\n",
    "from sklearn.model_selection import KFold\n",
    "\n",
    "# To help with model building\n",
    "from sklearn.ensemble import AdaBoostClassifier\n",
    "from xgboost import XGBClassifier\n",
    "\n",
    "# To suppress warnings\n",
    "import warnings\n",
    "\n",
    "warnings.filterwarnings(\"ignore\")\n",
    "\n",
    "# to build linear regression_model using statsmodels\n",
    "import statsmodels.api as sm\n",
    "\n",
    "# to compute VIF\n",
    "from statsmodels.stats.outliers_influence import variance_inflation_factor"
   ]
  },
  {
   "cell_type": "code",
   "execution_count": 266,
   "id": "2be9b9d3",
   "metadata": {},
   "outputs": [
    {
     "data": {
      "image/png": "[encoded data removed]",
      "text/plain": [
       "<Figure size 1500x3500 with 1 Axes>"
      ]
     },
     "metadata": {},
     "output_type": "display_data"
    }
   ],
   "source": [
    "# Checking for outliers\n",
    "out_cols = [\n",
    "    item for item in df.select_dtypes(include=np.number).columns if \"tag\" not in item\n",
    "]\n",
    "\n",
    "plt.figure(figsize=(15, 35))\n",
    "\n",
    "for i, variable in enumerate(out_cols):\n",
    "    plt.subplot(9, 3, i + 1)\n",
    "    plt.boxplot(df[variable], whis=1.5)\n",
    "    plt.tight_layout()\n",
    "    plt.title(variable)\n",
    "\n",
    "plt.show()"
   ]
  },
  {
   "cell_type": "markdown",
   "id": "284646b5",
   "metadata": {},
   "source": [
    "- No outliers"
   ]
  },
  {
   "cell_type": "code",
   "execution_count": 267,
   "id": "ed67566e",
   "metadata": {},
   "outputs": [],
   "source": [
    "# Converting features \"group\", \"countries\" and \"landing_page\" to dummy variable for model\n",
    "\n",
    "df = pd.get_dummies(df, columns=[\"group\",\"country\",\"landing_page\"], drop_first=True) "
   ]
  },
  {
   "cell_type": "code",
   "execution_count": 268,
   "id": "d9cea4f0",
   "metadata": {},
   "outputs": [],
   "source": [
    "# defining a function to compute different metrics to check performance of a classification model built using sklearn\n",
    "def model_performance_classification_sklearn(model, predictors, target):\n",
    "    \"\"\"\n",
    "    Function to compute different metrics to check classification model performance\n",
    "\n",
    "    model: classifier\n",
    "    predictors: independent variables\n",
    "    target: dependent variable\n",
    "    \"\"\"\n",
    "\n",
    "    # predicting using the independent variables\n",
    "    pred = model.predict(predictors)\n",
    "\n",
    "    acc = accuracy_score(target, pred)  # to compute Accuracy\n",
    "    recall = recall_score(target, pred)  # to compute Recall\n",
    "    precision = precision_score(target, pred)  # to compute Precision\n",
    "    f1 = f1_score(target, pred)  # to compute F1-score\n",
    "\n",
    "    # creating a dataframe of metrics\n",
    "    df_perf = pd.DataFrame(\n",
    "        {\n",
    "            \"Accuracy\": acc,\n",
    "            \"Recall\": recall,\n",
    "            \"Precision\": precision,\n",
    "            \"F1\": f1\n",
    "            \n",
    "        },\n",
    "        index=[0],\n",
    "    )\n",
    "\n",
    "    return df_perf"
   ]
  },
  {
   "cell_type": "code",
   "execution_count": 269,
   "id": "5624b93b",
   "metadata": {},
   "outputs": [],
   "source": [
    "def confusion_matrix_sklearn(model, predictors, target):\n",
    "    \"\"\"\n",
    "    To plot the confusion_matrix with percentages\n",
    "\n",
    "    model: classifier\n",
    "    predictors: independent variables\n",
    "    target: dependent variable\n",
    "    \"\"\"\n",
    "    y_pred = model.predict(predictors)\n",
    "    cm = confusion_matrix(target, y_pred)\n",
    "    labels = np.asarray(\n",
    "        [\n",
    "            [\"{0:0.0f}\".format(item) + \"\\n{0:.2%}\".format(item / cm.flatten().sum())]\n",
    "            for item in cm.flatten()\n",
    "        ]\n",
    "    ).reshape(2, 2)\n",
    "\n",
    "    plt.figure(figsize=(6, 4))\n",
    "    sns.heatmap(cm, annot=labels, fmt=\"\")\n",
    "    plt.ylabel(\"True label\")\n",
    "    plt.xlabel(\"Predicted label\")"
   ]
  },
  {
   "cell_type": "code",
   "execution_count": 270,
   "id": "2763d76f",
   "metadata": {},
   "outputs": [],
   "source": [
    "# Type of scoring used to compare parameter combinations\n",
    "scorer = metrics.make_scorer(metrics.f1_score)"
   ]
  },
  {
   "cell_type": "code",
   "execution_count": 271,
   "id": "af225e4a",
   "metadata": {},
   "outputs": [],
   "source": [
    "# split data\n",
    "X = df.drop([\"group_treatment\"], axis = 1) # independant variables\n",
    "y = df[[\"group_treatment\"]] # dependant variables"
   ]
  },
  {
   "cell_type": "code",
   "execution_count": 272,
   "id": "40fc6d68",
   "metadata": {},
   "outputs": [
    {
     "name": "stdout",
     "output_type": "stream",
     "text": [
      "(220861, 6) (73621, 6)\n"
     ]
    }
   ],
   "source": [
    "# Splitting the data into train and test sets\n",
    "X_train, X_test, y_train, y_test = train_test_split(\n",
    "    X, y, test_size=0.25, random_state=1, stratify=y\n",
    ")\n",
    "print(X_train.shape, X_test.shape)"
   ]
  },
  {
   "cell_type": "code",
   "execution_count": 273,
   "id": "539580c8",
   "metadata": {},
   "outputs": [],
   "source": [
    "# AdaBoost model\n",
    "ada = AdaBoostClassifier().fit(X_train, y_train)\n",
    "ada_pred = ada.predict(X_test)"
   ]
  },
  {
   "cell_type": "code",
   "execution_count": 287,
   "id": "20dd9416",
   "metadata": {
    "scrolled": true
   },
   "outputs": [
    {
     "name": "stdout",
     "output_type": "stream",
     "text": [
      "Training Performance\n",
      "\n"
     ]
    },
    {
     "data": {
      "text/html": [
       "<div>\n",
       "<style scoped>\n",
       "    .dataframe tbody tr th:only-of-type {\n",
       "        vertical-align: middle;\n",
       "    }\n",
       "\n",
       "    .dataframe tbody tr th {\n",
       "        vertical-align: top;\n",
       "    }\n",
       "\n",
       "    .dataframe thead th {\n",
       "        text-align: right;\n",
       "    }\n",
       "</style>\n",
       "<table border=\"1\" class=\"dataframe\">\n",
       "  <thead>\n",
       "    <tr style=\"text-align: right;\">\n",
       "      <th></th>\n",
       "      <th>Accuracy</th>\n",
       "      <th>Recall</th>\n",
       "      <th>Precision</th>\n",
       "      <th>F1</th>\n",
       "    </tr>\n",
       "  </thead>\n",
       "  <tbody>\n",
       "    <tr>\n",
       "      <th>0</th>\n",
       "      <td>0.986847</td>\n",
       "      <td>0.98681</td>\n",
       "      <td>0.98689</td>\n",
       "      <td>0.98685</td>\n",
       "    </tr>\n",
       "  </tbody>\n",
       "</table>\n",
       "</div>"
      ],
      "text/plain": [
       "   Accuracy   Recall  Precision       F1\n",
       "0  0.986847  0.98681    0.98689  0.98685"
      ]
     },
     "execution_count": 287,
     "metadata": {},
     "output_type": "execute_result"
    }
   ],
   "source": [
    "# checking model performance on training set \n",
    "print(\"Training Performance\\n\")\n",
    "ada_train_perf = model_performance_classification_sklearn(ada, X_train, y_train)\n",
    "ada_train_perf"
   ]
  },
  {
   "cell_type": "code",
   "execution_count": 275,
   "id": "6da7e25c",
   "metadata": {},
   "outputs": [
    {
     "name": "stdout",
     "output_type": "stream",
     "text": [
      "Test Performance\n",
      "\n"
     ]
    },
    {
     "data": {
      "text/html": [
       "<div>\n",
       "<style scoped>\n",
       "    .dataframe tbody tr th:only-of-type {\n",
       "        vertical-align: middle;\n",
       "    }\n",
       "\n",
       "    .dataframe tbody tr th {\n",
       "        vertical-align: top;\n",
       "    }\n",
       "\n",
       "    .dataframe thead th {\n",
       "        text-align: right;\n",
       "    }\n",
       "</style>\n",
       "<table border=\"1\" class=\"dataframe\">\n",
       "  <thead>\n",
       "    <tr style=\"text-align: right;\">\n",
       "      <th></th>\n",
       "      <th>Accuracy</th>\n",
       "      <th>Recall</th>\n",
       "      <th>Precision</th>\n",
       "      <th>F1</th>\n",
       "    </tr>\n",
       "  </thead>\n",
       "  <tbody>\n",
       "    <tr>\n",
       "      <th>0</th>\n",
       "      <td>0.98658</td>\n",
       "      <td>0.986203</td>\n",
       "      <td>0.986954</td>\n",
       "      <td>0.986578</td>\n",
       "    </tr>\n",
       "  </tbody>\n",
       "</table>\n",
       "</div>"
      ],
      "text/plain": [
       "   Accuracy    Recall  Precision        F1\n",
       "0   0.98658  0.986203   0.986954  0.986578"
      ]
     },
     "execution_count": 275,
     "metadata": {},
     "output_type": "execute_result"
    }
   ],
   "source": [
    "# checking model performance on test set \n",
    "print(\"Test Performance\\n\")\n",
    "ada_test_perf = model_performance_classification_sklearn(ada, X_test, y_test)\n",
    "ada_test_perf"
   ]
  },
  {
   "cell_type": "code",
   "execution_count": 276,
   "id": "dacdea93",
   "metadata": {
    "scrolled": true
   },
   "outputs": [
    {
     "data": {
      "image/png": "[encoded data removed]",
      "text/plain": [
       "<Figure size 600x400 with 2 Axes>"
      ]
     },
     "metadata": {},
     "output_type": "display_data"
    }
   ],
   "source": [
    "# creating confusion matrix\n",
    "confusion_matrix_sklearn(ada, X_test, y_test)"
   ]
  },
  {
   "cell_type": "markdown",
   "id": "a1e976f4",
   "metadata": {},
   "source": [
    "#### XGBoost model"
   ]
  },
  {
   "cell_type": "code",
   "execution_count": 277,
   "id": "a82f0ff0",
   "metadata": {},
   "outputs": [],
   "source": [
    "#XGBoost model cannot function with user_id data. We will therefore drop\n",
    "df2 = df.drop(columns=['user_id'], axis=1)"
   ]
  },
  {
   "cell_type": "code",
   "execution_count": 278,
   "id": "b0f44944",
   "metadata": {},
   "outputs": [],
   "source": [
    "# Type of scoring used to compare parameter combinations\n",
    "scorer = metrics.make_scorer(metrics.f1_score)"
   ]
  },
  {
   "cell_type": "code",
   "execution_count": 279,
   "id": "f917484f",
   "metadata": {},
   "outputs": [],
   "source": [
    "# split data\n",
    "X2 = df2.drop([\"group_treatment\"], axis = 1) # independant variables\n",
    "y2 = df2[[\"group_treatment\"]] # dependant variables"
   ]
  },
  {
   "cell_type": "code",
   "execution_count": 280,
   "id": "8d07f540",
   "metadata": {},
   "outputs": [
    {
     "name": "stdout",
     "output_type": "stream",
     "text": [
      "(220861, 5) (73621, 5)\n"
     ]
    }
   ],
   "source": [
    "# Splitting the data into train and test sets\n",
    "X2_train, X2_test, y2_train, y2_test = train_test_split(\n",
    "    X2, y2, test_size=0.25, random_state=1, stratify=y2\n",
    ")\n",
    "print(X2_train.shape, X2_test.shape)"
   ]
  },
  {
   "cell_type": "code",
   "execution_count": 282,
   "id": "f0027225",
   "metadata": {
    "scrolled": false
   },
   "outputs": [],
   "source": [
    "# XGBoost model\n",
    "xgb = XGBClassifier().fit(X2_train, y2_train)\n",
    "xgb_pred = xgb.predict(X2_test)"
   ]
  },
  {
   "cell_type": "code",
   "execution_count": 290,
   "id": "65fe266a",
   "metadata": {
    "scrolled": true
   },
   "outputs": [
    {
     "name": "stdout",
     "output_type": "stream",
     "text": [
      "Training Performance\n",
      "\n"
     ]
    },
    {
     "data": {
      "text/html": [
       "<div>\n",
       "<style scoped>\n",
       "    .dataframe tbody tr th:only-of-type {\n",
       "        vertical-align: middle;\n",
       "    }\n",
       "\n",
       "    .dataframe tbody tr th {\n",
       "        vertical-align: top;\n",
       "    }\n",
       "\n",
       "    .dataframe thead th {\n",
       "        text-align: right;\n",
       "    }\n",
       "</style>\n",
       "<table border=\"1\" class=\"dataframe\">\n",
       "  <thead>\n",
       "    <tr style=\"text-align: right;\">\n",
       "      <th></th>\n",
       "      <th>Accuracy</th>\n",
       "      <th>Recall</th>\n",
       "      <th>Precision</th>\n",
       "      <th>F1</th>\n",
       "    </tr>\n",
       "  </thead>\n",
       "  <tbody>\n",
       "    <tr>\n",
       "      <th>0</th>\n",
       "      <td>0.986847</td>\n",
       "      <td>0.98681</td>\n",
       "      <td>0.98689</td>\n",
       "      <td>0.98685</td>\n",
       "    </tr>\n",
       "  </tbody>\n",
       "</table>\n",
       "</div>"
      ],
      "text/plain": [
       "   Accuracy   Recall  Precision       F1\n",
       "0  0.986847  0.98681    0.98689  0.98685"
      ]
     },
     "execution_count": 290,
     "metadata": {},
     "output_type": "execute_result"
    }
   ],
   "source": [
    "# checking model performance on training set \n",
    "print(\"Training Performance\\n\")\n",
    "xgb_train_perf = model_performance_classification_sklearn(xgb, X2_train, y2_train)\n",
    "xgb_train_perf"
   ]
  },
  {
   "cell_type": "code",
   "execution_count": 291,
   "id": "9b63be2a",
   "metadata": {},
   "outputs": [
    {
     "name": "stdout",
     "output_type": "stream",
     "text": [
      "Test Performance\n",
      "\n"
     ]
    },
    {
     "data": {
      "text/html": [
       "<div>\n",
       "<style scoped>\n",
       "    .dataframe tbody tr th:only-of-type {\n",
       "        vertical-align: middle;\n",
       "    }\n",
       "\n",
       "    .dataframe tbody tr th {\n",
       "        vertical-align: top;\n",
       "    }\n",
       "\n",
       "    .dataframe thead th {\n",
       "        text-align: right;\n",
       "    }\n",
       "</style>\n",
       "<table border=\"1\" class=\"dataframe\">\n",
       "  <thead>\n",
       "    <tr style=\"text-align: right;\">\n",
       "      <th></th>\n",
       "      <th>Accuracy</th>\n",
       "      <th>Recall</th>\n",
       "      <th>Precision</th>\n",
       "      <th>F1</th>\n",
       "    </tr>\n",
       "  </thead>\n",
       "  <tbody>\n",
       "    <tr>\n",
       "      <th>0</th>\n",
       "      <td>0.98658</td>\n",
       "      <td>0.986203</td>\n",
       "      <td>0.986954</td>\n",
       "      <td>0.986578</td>\n",
       "    </tr>\n",
       "  </tbody>\n",
       "</table>\n",
       "</div>"
      ],
      "text/plain": [
       "   Accuracy    Recall  Precision        F1\n",
       "0   0.98658  0.986203   0.986954  0.986578"
      ]
     },
     "execution_count": 291,
     "metadata": {},
     "output_type": "execute_result"
    }
   ],
   "source": [
    "# checking model performance on test set \n",
    "print(\"Test Performance\\n\")\n",
    "xgb_test_perf = model_performance_classification_sklearn(xgb, X2_test, y2_test)\n",
    "xgb_test_perf"
   ]
  },
  {
   "cell_type": "code",
   "execution_count": 292,
   "id": "776f3762",
   "metadata": {
    "scrolled": true
   },
   "outputs": [
    {
     "data": {
      "image/png": "[encoded data removed]",
      "text/plain": [
       "<Figure size 600x400 with 2 Axes>"
      ]
     },
     "metadata": {},
     "output_type": "display_data"
    }
   ],
   "source": [
    "# creating confusion matrix\n",
    "confusion_matrix_sklearn(xgb, X2_test, y2_test)"
   ]
  },
  {
   "cell_type": "markdown",
   "id": "0751b77f",
   "metadata": {},
   "source": [
    "### Model results\n",
    "\n",
    "- With our machine learning model we found that both the XGBoost model and Adaboost model had the same accuracy score. With a F1_score of 0.987 either model could be used for future prediction.\n",
    "- Only 988 of the samples were misplaced out of the 294'482 samples. "
   ]
  },
  {
   "cell_type": "markdown",
   "id": "c6d56004",
   "metadata": {},
   "source": [
    "## Summary\n",
    "\n",
    "- We compared the performance of the two websites using the t-test and p-value method. The result was a t-score of -0.85 and p-score of 0.39. \n",
    "- We concluded that switching to the new web page wouldn't have a significant difference on the user experience. And given that the t-test was -0.85, it is advised to continue with the old web page as is.\n",
    "\n",
    "\n",
    "- With our machine learning model we found that both the XGBoost model and Adaboost model had the same accuracy score. With a F1_score of 0.987 either model could be used for future prediction."
   ]
  },
  {
   "cell_type": "code",
   "execution_count": null,
   "id": "72396e8b",
   "metadata": {},
   "outputs": [],
   "source": []
  }
 ],
 "metadata": {
  "kernelspec": {
   "display_name": "Python 3 (ipykernel)",
   "language": "python",
   "name": "python3"
  },
  "language_info": {
   "codemirror_mode": {
    "name": "ipython",
    "version": 3
   },
   "file_extension": ".py",
   "mimetype": "text/x-python",
   "name": "python",
   "nbconvert_exporter": "python",
   "pygments_lexer": "ipython3",
   "version": "3.9.7"
  },
  "toc": {
   "base_numbering": 1,
   "nav_menu": {},
   "number_sections": true,
   "sideBar": true,
   "skip_h1_title": false,
   "title_cell": "Table of Contents",
   "title_sidebar": "Contents",
   "toc_cell": false,
   "toc_position": {},
   "toc_section_display": true,
   "toc_window_display": false
  }
 },
 "nbformat": 4,
 "nbformat_minor": 5
}
