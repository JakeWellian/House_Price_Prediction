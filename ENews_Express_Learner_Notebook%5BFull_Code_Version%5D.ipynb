{
 "cells": [
  {
   "cell_type": "markdown",
   "id": "6yDxo9u0d9Na",
   "metadata": {
    "id": "6yDxo9u0d9Na"
   },
   "source": [
    "# Project Business Statistics: E-news Express\n"
   ]
  },
  {
   "cell_type": "markdown",
   "id": "SrLd-ICEmPSD",
   "metadata": {
    "id": "SrLd-ICEmPSD"
   },
   "source": [
    "## Define Problem Statement and Objectives"
   ]
  },
  {
   "cell_type": "markdown",
   "id": "9Vt1PLLqmXNn",
   "metadata": {
    "id": "9Vt1PLLqmXNn"
   },
   "source": [
    "#### Problem Statement\n",
    "\n",
    "An online news portal aims to expand its business by acquiring new subscribers. It has created a new landing page which it hopes will increase peoples interest and ultimately prompt vistors to subscribe.\n",
    "\n",
    "To test whether or not this new landing page should replace the old landing page a test is run. 100 users are randomly selected and then divided equally into two groups. One group is asked to visit the old landing page (control group) and the other group is asked to visit the new landing page (treatment group). Various data about user engagement are recorded for both groups. \n",
    "\n",
    "\n",
    "#### Objectives\n",
    "\n",
    "\n",
    "Explore the dataset and extract insights using Exploratory Data Analysis.\n",
    "\n",
    "Find out if the users are spending more time on the new landing page versus the old landing page.\n",
    "\n",
    "Find out if the users who visit the new landing page are more likely to subscribe than those who visit the old landing page.\n",
    "\n",
    "Find out if a user's preferred language is related to how likely someone is to subscribe.\n",
    "\n",
    "Find out if time spent on the landing page varies depending on the user's preferred language.\n"
   ]
  },
  {
   "cell_type": "markdown",
   "id": "a6a3d218",
   "metadata": {
    "id": "a6a3d218"
   },
   "source": [
    "## Import all the necessary libraries"
   ]
  },
  {
   "cell_type": "code",
   "execution_count": 1,
   "id": "658c5dec",
   "metadata": {
    "id": "658c5dec"
   },
   "outputs": [],
   "source": [
    "import numpy as np\n",
    "import pandas as pd\n",
    "from matplotlib import pyplot as plt\n",
    "import seaborn as sns"
   ]
  },
  {
   "cell_type": "markdown",
   "id": "9d75cfa2",
   "metadata": {
    "id": "9d75cfa2"
   },
   "source": [
    "## 1. Explore the dataset and extract insights using Exploratory Data Analysis. (10 Marks)"
   ]
  },
  {
   "cell_type": "markdown",
   "id": "27201534",
   "metadata": {
    "id": "27201534"
   },
   "source": [
    "### Exploratory Data Analysis - Step by step approach\n",
    "\n",
    "Typical Data exploration activity consists of the following steps:\n",
    "1.\tImporting Data\n",
    "2.\tVariable Identification\n",
    "3.  Variable Transformation/Feature Creation\n",
    "4.  Missing value detection\n",
    "5.\tUnivariate Analysis\n",
    "6.\tBivariate Analysis"
   ]
  },
  {
   "cell_type": "markdown",
   "id": "6970dd99",
   "metadata": {
    "id": "6970dd99"
   },
   "source": [
    "### Reading the Data into a DataFrame"
   ]
  },
  {
   "cell_type": "code",
   "execution_count": 2,
   "id": "d3b95640",
   "metadata": {
    "id": "d3b95640"
   },
   "outputs": [],
   "source": [
    "abtest = pd.read_csv(\"abtest.csv\")"
   ]
  },
  {
   "cell_type": "markdown",
   "id": "a4e471fd",
   "metadata": {
    "id": "a4e471fd"
   },
   "source": [
    "### Data Overview\n",
    "- View a few rows of the data frame.\n",
    "- Check the shape and data types of the data frame. Add observations.\n",
    "- Fix the data-types (if needed).\n",
    "- Missing Value Check.\n",
    "- Summary statistics from the data frame. Add observations."
   ]
  },
  {
   "cell_type": "code",
   "execution_count": 3,
   "id": "e1ad11d4",
   "metadata": {
    "id": "e1ad11d4",
    "scrolled": false
   },
   "outputs": [
    {
     "data": {
      "text/html": [
       "<div>\n",
       "<style scoped>\n",
       "    .dataframe tbody tr th:only-of-type {\n",
       "        vertical-align: middle;\n",
       "    }\n",
       "\n",
       "    .dataframe tbody tr th {\n",
       "        vertical-align: top;\n",
       "    }\n",
       "\n",
       "    .dataframe thead th {\n",
       "        text-align: right;\n",
       "    }\n",
       "</style>\n",
       "<table border=\"1\" class=\"dataframe\">\n",
       "  <thead>\n",
       "    <tr style=\"text-align: right;\">\n",
       "      <th></th>\n",
       "      <th>user_id</th>\n",
       "      <th>group</th>\n",
       "      <th>landing_page</th>\n",
       "      <th>time_spent_on_the_page</th>\n",
       "      <th>converted</th>\n",
       "      <th>language_preferred</th>\n",
       "    </tr>\n",
       "  </thead>\n",
       "  <tbody>\n",
       "    <tr>\n",
       "      <th>0</th>\n",
       "      <td>546592</td>\n",
       "      <td>control</td>\n",
       "      <td>old</td>\n",
       "      <td>3.48</td>\n",
       "      <td>no</td>\n",
       "      <td>Spanish</td>\n",
       "    </tr>\n",
       "    <tr>\n",
       "      <th>1</th>\n",
       "      <td>546468</td>\n",
       "      <td>treatment</td>\n",
       "      <td>new</td>\n",
       "      <td>7.13</td>\n",
       "      <td>yes</td>\n",
       "      <td>English</td>\n",
       "    </tr>\n",
       "    <tr>\n",
       "      <th>2</th>\n",
       "      <td>546462</td>\n",
       "      <td>treatment</td>\n",
       "      <td>new</td>\n",
       "      <td>4.40</td>\n",
       "      <td>no</td>\n",
       "      <td>Spanish</td>\n",
       "    </tr>\n",
       "    <tr>\n",
       "      <th>3</th>\n",
       "      <td>546567</td>\n",
       "      <td>control</td>\n",
       "      <td>old</td>\n",
       "      <td>3.02</td>\n",
       "      <td>no</td>\n",
       "      <td>French</td>\n",
       "    </tr>\n",
       "    <tr>\n",
       "      <th>4</th>\n",
       "      <td>546459</td>\n",
       "      <td>treatment</td>\n",
       "      <td>new</td>\n",
       "      <td>4.75</td>\n",
       "      <td>yes</td>\n",
       "      <td>Spanish</td>\n",
       "    </tr>\n",
       "  </tbody>\n",
       "</table>\n",
       "</div>"
      ],
      "text/plain": [
       "   user_id      group landing_page  time_spent_on_the_page converted  \\\n",
       "0   546592    control          old                    3.48        no   \n",
       "1   546468  treatment          new                    7.13       yes   \n",
       "2   546462  treatment          new                    4.40        no   \n",
       "3   546567    control          old                    3.02        no   \n",
       "4   546459  treatment          new                    4.75       yes   \n",
       "\n",
       "  language_preferred  \n",
       "0            Spanish  \n",
       "1            English  \n",
       "2            Spanish  \n",
       "3             French  \n",
       "4            Spanish  "
      ]
     },
     "execution_count": 3,
     "metadata": {},
     "output_type": "execute_result"
    }
   ],
   "source": [
    "abtest.head()"
   ]
  },
  {
   "cell_type": "markdown",
   "id": "e5bb3494",
   "metadata": {},
   "source": [
    "#### Observations:\n",
    "\n",
    "The DataFrame has 6 columns and each row corresponds to how much time the users are spending on the website."
   ]
  },
  {
   "cell_type": "code",
   "execution_count": 4,
   "id": "6539ffca",
   "metadata": {},
   "outputs": [
    {
     "data": {
      "text/plain": [
       "(100, 6)"
      ]
     },
     "execution_count": 4,
     "metadata": {},
     "output_type": "execute_result"
    }
   ],
   "source": [
    "abtest.shape"
   ]
  },
  {
   "cell_type": "markdown",
   "id": "41e70e4f",
   "metadata": {},
   "source": [
    "#### Observations: \n",
    "* 100 rows and 6 columns"
   ]
  },
  {
   "cell_type": "code",
   "execution_count": 5,
   "id": "9e7465de",
   "metadata": {},
   "outputs": [
    {
     "name": "stdout",
     "output_type": "stream",
     "text": [
      "<class 'pandas.core.frame.DataFrame'>\n",
      "RangeIndex: 100 entries, 0 to 99\n",
      "Data columns (total 6 columns):\n",
      " #   Column                  Non-Null Count  Dtype  \n",
      "---  ------                  --------------  -----  \n",
      " 0   user_id                 100 non-null    int64  \n",
      " 1   group                   100 non-null    object \n",
      " 2   landing_page            100 non-null    object \n",
      " 3   time_spent_on_the_page  100 non-null    float64\n",
      " 4   converted               100 non-null    object \n",
      " 5   language_preferred      100 non-null    object \n",
      "dtypes: float64(1), int64(1), object(4)\n",
      "memory usage: 4.8+ KB\n"
     ]
    }
   ],
   "source": [
    "abtest.info()"
   ]
  },
  {
   "cell_type": "markdown",
   "id": "66fd41ab",
   "metadata": {},
   "source": [
    "#### Observations: \n",
    "* There are 2 numeric columns and 4 object type columns."
   ]
  },
  {
   "cell_type": "code",
   "execution_count": 6,
   "id": "9d1f3fdd",
   "metadata": {},
   "outputs": [
    {
     "name": "stdout",
     "output_type": "stream",
     "text": [
      "<class 'pandas.core.frame.DataFrame'>\n",
      "RangeIndex: 100 entries, 0 to 99\n",
      "Data columns (total 6 columns):\n",
      " #   Column                  Non-Null Count  Dtype   \n",
      "---  ------                  --------------  -----   \n",
      " 0   user_id                 100 non-null    int64   \n",
      " 1   group                   100 non-null    category\n",
      " 2   landing_page            100 non-null    category\n",
      " 3   time_spent_on_the_page  100 non-null    float64 \n",
      " 4   converted               100 non-null    category\n",
      " 5   language_preferred      100 non-null    category\n",
      "dtypes: category(4), float64(1), int64(1)\n",
      "memory usage: 2.6 KB\n"
     ]
    }
   ],
   "source": [
    "# Converting \"objects\" to \"category\" reduces the data space required to store the dataframe\n",
    "abtest[\"group\"] = abtest.group.astype(\"category\")\n",
    "abtest[\"landing_page\"] = abtest.landing_page.astype(\"category\")\n",
    "abtest[\"converted\"] = abtest.converted.astype(\"category\")\n",
    "abtest[\"language_preferred\"] = abtest.language_preferred.astype(\"category\")\n",
    "\n",
    "# Use info() to print a concise summary of the DataFrame\n",
    "abtest.info()"
   ]
  },
  {
   "cell_type": "markdown",
   "id": "94f2a990",
   "metadata": {},
   "source": [
    "#### Observations:\n",
    "* Converting the object type attributes into category type reduces the memory usage from 4.8+ KB to 2.6 KB."
   ]
  },
  {
   "cell_type": "code",
   "execution_count": 7,
   "id": "47a46251",
   "metadata": {},
   "outputs": [
    {
     "data": {
      "text/plain": [
       "user_id                   0\n",
       "group                     0\n",
       "landing_page              0\n",
       "time_spent_on_the_page    0\n",
       "converted                 0\n",
       "language_preferred        0\n",
       "dtype: int64"
      ]
     },
     "execution_count": 7,
     "metadata": {},
     "output_type": "execute_result"
    }
   ],
   "source": [
    "abtest.isnull().sum()"
   ]
  },
  {
   "cell_type": "markdown",
   "id": "b492f65f",
   "metadata": {},
   "source": [
    "#### Observations:\n",
    "* No missing data."
   ]
  },
  {
   "cell_type": "code",
   "execution_count": 8,
   "id": "cdbc9137",
   "metadata": {},
   "outputs": [
    {
     "data": {
      "text/html": [
       "<div>\n",
       "<style scoped>\n",
       "    .dataframe tbody tr th:only-of-type {\n",
       "        vertical-align: middle;\n",
       "    }\n",
       "\n",
       "    .dataframe tbody tr th {\n",
       "        vertical-align: top;\n",
       "    }\n",
       "\n",
       "    .dataframe thead th {\n",
       "        text-align: right;\n",
       "    }\n",
       "</style>\n",
       "<table border=\"1\" class=\"dataframe\">\n",
       "  <thead>\n",
       "    <tr style=\"text-align: right;\">\n",
       "      <th></th>\n",
       "      <th>user_id</th>\n",
       "      <th>time_spent_on_the_page</th>\n",
       "    </tr>\n",
       "  </thead>\n",
       "  <tbody>\n",
       "    <tr>\n",
       "      <th>count</th>\n",
       "      <td>100.000000</td>\n",
       "      <td>100.000000</td>\n",
       "    </tr>\n",
       "    <tr>\n",
       "      <th>mean</th>\n",
       "      <td>546517.000000</td>\n",
       "      <td>5.377800</td>\n",
       "    </tr>\n",
       "    <tr>\n",
       "      <th>std</th>\n",
       "      <td>52.295779</td>\n",
       "      <td>2.378166</td>\n",
       "    </tr>\n",
       "    <tr>\n",
       "      <th>min</th>\n",
       "      <td>546443.000000</td>\n",
       "      <td>0.190000</td>\n",
       "    </tr>\n",
       "    <tr>\n",
       "      <th>25%</th>\n",
       "      <td>546467.750000</td>\n",
       "      <td>3.880000</td>\n",
       "    </tr>\n",
       "    <tr>\n",
       "      <th>50%</th>\n",
       "      <td>546492.500000</td>\n",
       "      <td>5.415000</td>\n",
       "    </tr>\n",
       "    <tr>\n",
       "      <th>75%</th>\n",
       "      <td>546567.250000</td>\n",
       "      <td>7.022500</td>\n",
       "    </tr>\n",
       "    <tr>\n",
       "      <th>max</th>\n",
       "      <td>546592.000000</td>\n",
       "      <td>10.710000</td>\n",
       "    </tr>\n",
       "  </tbody>\n",
       "</table>\n",
       "</div>"
      ],
      "text/plain": [
       "             user_id  time_spent_on_the_page\n",
       "count     100.000000              100.000000\n",
       "mean   546517.000000                5.377800\n",
       "std        52.295779                2.378166\n",
       "min    546443.000000                0.190000\n",
       "25%    546467.750000                3.880000\n",
       "50%    546492.500000                5.415000\n",
       "75%    546567.250000                7.022500\n",
       "max    546592.000000               10.710000"
      ]
     },
     "execution_count": 8,
     "metadata": {},
     "output_type": "execute_result"
    }
   ],
   "source": [
    "abtest.describe()"
   ]
  },
  {
   "cell_type": "markdown",
   "id": "46569e76",
   "metadata": {},
   "source": [
    "#### Observations:\n",
    "* The minimum time that a user was on the website was about 0.19 minutes\n",
    "* The average time that a user was on the website was about 5.38 minutes\n",
    "* The minimum time that a user was on the website was about 10.71 minutes"
   ]
  },
  {
   "cell_type": "markdown",
   "id": "68f3b2c9",
   "metadata": {
    "id": "68f3b2c9"
   },
   "source": [
    "### Univariate Analysis"
   ]
  },
  {
   "cell_type": "code",
   "execution_count": 9,
   "id": "1932d0f3",
   "metadata": {
    "id": "1932d0f3"
   },
   "outputs": [],
   "source": [
    "# function to plot a boxplot and a histogram along the same scale.\n",
    "\n",
    "\n",
    "def histogram_boxplot(data, feature, figsize=(12, 7), kde=False, bins=None):\n",
    "    \"\"\"\n",
    "    Boxplot and histogram combined\n",
    "\n",
    "    data: dataframe\n",
    "    feature: dataframe column\n",
    "    figsize: size of figure (default (12,7))\n",
    "    kde: whether to show the density curve (default False)\n",
    "    bins: number of bins for histogram (default None)\n",
    "    \"\"\"\n",
    "    f2, (ax_box2, ax_hist2) = plt.subplots(\n",
    "        nrows=2,  # Number of rows of the subplot grid= 2\n",
    "        sharex=True,  # x-axis will be shared among all subplots\n",
    "        gridspec_kw={\"height_ratios\": (0.25, 0.75)},\n",
    "        figsize=figsize,\n",
    "    )  # creating the 2 subplots\n",
    "    sns.boxplot(\n",
    "        data=data, x=feature, ax=ax_box2, showmeans=True, color=\"violet\"\n",
    "    )  # boxplot will be created and a star will indicate the mean value of the column\n",
    "    sns.histplot(\n",
    "        data=data, x=feature, kde=kde, ax=ax_hist2, bins=bins, palette=\"winter\"\n",
    "    ) if bins else sns.histplot(\n",
    "        data=data, x=feature, kde=kde, ax=ax_hist2\n",
    "    )  # For histogram\n",
    "    ax_hist2.axvline(\n",
    "        data[feature].mean(), color=\"green\", linestyle=\"--\"\n",
    "    )  # Add mean to the histogram\n",
    "    ax_hist2.axvline(\n",
    "        data[feature].median(), color=\"black\", linestyle=\"-\"\n",
    "    )  # Add median to the histogram"
   ]
  },
  {
   "cell_type": "code",
   "execution_count": 10,
   "id": "2fce6350",
   "metadata": {
    "id": "2fce6350"
   },
   "outputs": [],
   "source": [
    "# function to create labeled barplots\n",
    "\n",
    "\n",
    "def labeled_barplot(data, feature, perc=False, n=None):\n",
    "    \"\"\"\n",
    "    Barplot with percentage at the top\n",
    "\n",
    "    data: dataframe\n",
    "    feature: dataframe column\n",
    "    perc: whether to display percentages instead of count (default is False)\n",
    "    n: displays the top n category levels (default is None, i.e., display all levels)\n",
    "    \"\"\"\n",
    "\n",
    "    total = len(data[feature])  # length of the column\n",
    "    count = data[feature].nunique()\n",
    "    if n is None:\n",
    "        plt.figure(figsize=(count + 1, 5))\n",
    "    else:\n",
    "        plt.figure(figsize=(n + 1, 5))\n",
    "\n",
    "    plt.xticks(rotation=90, fontsize=15)\n",
    "    ax = sns.countplot(data=data, x=feature, palette=\"Paired\", order=data[feature].value_counts().index[:n].sort_values())\n",
    "\n",
    "    for p in ax.patches:\n",
    "        if perc == True:\n",
    "            label = \"{:.1f}%\".format(100 * p.get_height() / total)  # percentage of each class of the category\n",
    "        else:\n",
    "            label = p.get_height()  # count of each level of the category\n",
    "\n",
    "        x = p.get_x() + p.get_width() / 2  # width of the plot\n",
    "        y = p.get_height()      # height of the plot\n",
    "\n",
    "        ax.annotate(label, (x, y), ha=\"center\", va=\"center\", size=12, xytext=(0, 5), textcoords=\"offset points\")  # annotate the percentage\n",
    "\n",
    "    plt.show()  # show the plot"
   ]
  },
  {
   "cell_type": "markdown",
   "id": "6ff30d59",
   "metadata": {},
   "source": [
    "### Test Groups"
   ]
  },
  {
   "cell_type": "code",
   "execution_count": 12,
   "id": "ae2d8d63",
   "metadata": {},
   "outputs": [
    {
     "data": {
      "image/png": "[encoded data removed]",
      "text/plain": [
       "<Figure size 216x360 with 1 Axes>"
      ]
     },
     "metadata": {
      "needs_background": "light"
     },
     "output_type": "display_data"
    },
    {
     "data": {
      "image/png": "[encoded data removed]",
      "text/plain": [
       "<Figure size 216x360 with 1 Axes>"
      ]
     },
     "metadata": {
      "needs_background": "light"
     },
     "output_type": "display_data"
    }
   ],
   "source": [
    "labeled_barplot(abtest,\"group\",perc=True)\n",
    "labeled_barplot(abtest,\"landing_page\",perc=True)"
   ]
  },
  {
   "cell_type": "markdown",
   "id": "c097efce",
   "metadata": {},
   "source": [
    "#### Observations:\n",
    "* Users are equally divided into two groups. The control group and the treatment group. "
   ]
  },
  {
   "cell_type": "markdown",
   "id": "5b7e2efc",
   "metadata": {},
   "source": [
    "### Time spent on the page"
   ]
  },
  {
   "cell_type": "code",
   "execution_count": 13,
   "id": "591aacb4",
   "metadata": {},
   "outputs": [
    {
     "data": {
      "image/png": "[encoded data removed]",
      "text/plain": [
       "<Figure size 864x504 with 2 Axes>"
      ]
     },
     "metadata": {
      "needs_background": "light"
     },
     "output_type": "display_data"
    }
   ],
   "source": [
    "histogram_boxplot(abtest, \"time_spent_on_the_page\")"
   ]
  },
  {
   "cell_type": "markdown",
   "id": "60948f0d",
   "metadata": {},
   "source": [
    "#### Observations:\n",
    "* Time spent on page is normally distributed\n",
    "* The mean and the median are the same\n",
    "* There are no outliers"
   ]
  },
  {
   "cell_type": "markdown",
   "id": "19c741ce",
   "metadata": {},
   "source": [
    "### Where users converted?"
   ]
  },
  {
   "cell_type": "code",
   "execution_count": 14,
   "id": "651399ab",
   "metadata": {
    "scrolled": true
   },
   "outputs": [
    {
     "data": {
      "image/png": "[encoded data removed]",
      "text/plain": [
       "<Figure size 216x360 with 1 Axes>"
      ]
     },
     "metadata": {
      "needs_background": "light"
     },
     "output_type": "display_data"
    }
   ],
   "source": [
    "labeled_barplot(abtest,\"converted\",perc=True)"
   ]
  },
  {
   "cell_type": "markdown",
   "id": "3cdbe44f",
   "metadata": {},
   "source": [
    "#### Observations:\n",
    "* 54% of users were converted to the new landing page. 46% were not."
   ]
  },
  {
   "cell_type": "markdown",
   "id": "feb9a91a",
   "metadata": {},
   "source": [
    "### Language preferred"
   ]
  },
  {
   "cell_type": "code",
   "execution_count": 15,
   "id": "76a860c1",
   "metadata": {},
   "outputs": [
    {
     "data": {
      "image/png": "[encoded data removed]",
      "text/plain": [
       "<Figure size 288x360 with 1 Axes>"
      ]
     },
     "metadata": {
      "needs_background": "light"
     },
     "output_type": "display_data"
    }
   ],
   "source": [
    "labeled_barplot(abtest,\"language_preferred\", perc=True)"
   ]
  },
  {
   "cell_type": "markdown",
   "id": "c532234c",
   "metadata": {},
   "source": [
    "#### Observations:\n",
    "* Language preferrence is nearly uniform between the 3 languages.\n",
    "* English is the least preferred with 32%. 2% less than Spanish and French."
   ]
  },
  {
   "cell_type": "markdown",
   "id": "fad2de2f",
   "metadata": {
    "id": "fad2de2f"
   },
   "source": [
    "### Bivariate Analysis"
   ]
  },
  {
   "cell_type": "markdown",
   "id": "b5cc156e",
   "metadata": {},
   "source": [
    "### Time spent on the page versus Landing page type"
   ]
  },
  {
   "cell_type": "code",
   "execution_count": 16,
   "id": "fbfeaf0f",
   "metadata": {},
   "outputs": [
    {
     "data": {
      "text/plain": [
       "<AxesSubplot:xlabel='landing_page', ylabel='time_spent_on_the_page'>"
      ]
     },
     "execution_count": 16,
     "metadata": {},
     "output_type": "execute_result"
    },
    {
     "data": {
      "image/png": "[encoded data removed]",
      "text/plain": [
       "<Figure size 432x288 with 1 Axes>"
      ]
     },
     "metadata": {
      "needs_background": "light"
     },
     "output_type": "display_data"
    }
   ],
   "source": [
    "sns.boxplot(data = abtest, y = \"time_spent_on_the_page\", x = \"landing_page\")"
   ]
  },
  {
   "cell_type": "markdown",
   "id": "25c28537",
   "metadata": {},
   "source": [
    "#### Observations\n",
    "\n",
    "* Users that visited the new landing page spent more time on the website than those which visited the old landing page.\n",
    "* On average, the users that visited the new landing page spent approximately 2 minutes more time on the website than those which visited the old landing page.\n",
    "* There are a few outliers on both sides of the whiskers for the sub-group that visited the new landing page."
   ]
  },
  {
   "cell_type": "markdown",
   "id": "692872c8",
   "metadata": {},
   "source": [
    "### Time spent on the page versus Converted"
   ]
  },
  {
   "cell_type": "code",
   "execution_count": 17,
   "id": "b6e04017",
   "metadata": {},
   "outputs": [
    {
     "data": {
      "text/plain": [
       "<AxesSubplot:xlabel='converted', ylabel='time_spent_on_the_page'>"
      ]
     },
     "execution_count": 17,
     "metadata": {},
     "output_type": "execute_result"
    },
    {
     "data": {
      "image/png": "[encoded data removed]",
      "text/plain": [
       "<Figure size 432x288 with 1 Axes>"
      ]
     },
     "metadata": {
      "needs_background": "light"
     },
     "output_type": "display_data"
    }
   ],
   "source": [
    "sns.boxplot(data = abtest, y = \"time_spent_on_the_page\", x = \"converted\")"
   ]
  },
  {
   "cell_type": "markdown",
   "id": "66da9a40",
   "metadata": {},
   "source": [
    "#### Observations\n",
    "\n",
    "* Users that had spent more time on the page where more likely to have been converted. \n",
    "* On average, the users where converted had spent approximately 2.5 minutes more time on the page than those which were not converted.\n",
    "* There are a few outliers on both sides of the whiskers for the sub-group that was converted to the new landing page.\n",
    "* There was one outlier for the sub-group that was not converted to the new landing page."
   ]
  },
  {
   "cell_type": "markdown",
   "id": "2412247a",
   "metadata": {},
   "source": [
    "### Time spent on the page versus Language Preferred"
   ]
  },
  {
   "cell_type": "code",
   "execution_count": 18,
   "id": "394285d4",
   "metadata": {},
   "outputs": [
    {
     "data": {
      "text/plain": [
       "<AxesSubplot:xlabel='language_preferred', ylabel='time_spent_on_the_page'>"
      ]
     },
     "execution_count": 18,
     "metadata": {},
     "output_type": "execute_result"
    },
    {
     "data": {
      "image/png": "[encoded data removed]",
      "text/plain": [
       "<Figure size 432x288 with 1 Axes>"
      ]
     },
     "metadata": {
      "needs_background": "light"
     },
     "output_type": "display_data"
    }
   ],
   "source": [
    "sns.boxplot(data = abtest, y = \"time_spent_on_the_page\", x = 'language_preferred')"
   ]
  },
  {
   "cell_type": "markdown",
   "id": "5dd13e68",
   "metadata": {},
   "source": [
    "#### Observations\n",
    "\n",
    "* Mean time spent between the users with different language preferrances was nearly uniform.\n",
    "* There was one outlier for the Spanish sub-category. "
   ]
  },
  {
   "cell_type": "markdown",
   "id": "27906576",
   "metadata": {
    "id": "27906576"
   },
   "source": [
    "## 2. Do the users spend more time on the new landing page than the existing landing page? (10 Marks)"
   ]
  },
  {
   "cell_type": "markdown",
   "id": "e5fdf0c8",
   "metadata": {
    "id": "e5fdf0c8"
   },
   "source": [
    "### Perform Visual Analysis"
   ]
  },
  {
   "cell_type": "code",
   "execution_count": 19,
   "id": "6eZJa41eg21n",
   "metadata": {
    "id": "6eZJa41eg21n",
    "scrolled": true
   },
   "outputs": [
    {
     "data": {
      "text/plain": [
       "<AxesSubplot:xlabel='landing_page', ylabel='time_spent_on_the_page'>"
      ]
     },
     "execution_count": 19,
     "metadata": {},
     "output_type": "execute_result"
    },
    {
     "data": {
      "image/png": "[encoded data removed]",
      "text/plain": [
       "<Figure size 432x288 with 1 Axes>"
      ]
     },
     "metadata": {
      "needs_background": "light"
     },
     "output_type": "display_data"
    }
   ],
   "source": [
    "sns.boxplot(data = abtest, y = \"time_spent_on_the_page\", x = \"landing_page\")"
   ]
  },
  {
   "cell_type": "markdown",
   "id": "bb523dee",
   "metadata": {},
   "source": [
    "#### Observations\n",
    "\n",
    "* Mean time spent for the new landing page appears to be higher than for the old landing page. However, let's confirm this with a hypothesis test."
   ]
  },
  {
   "cell_type": "markdown",
   "id": "56b3dafd",
   "metadata": {
    "id": "56b3dafd"
   },
   "source": [
    "### Step 1: Define the null and alternate hypotheses"
   ]
  },
  {
   "cell_type": "markdown",
   "id": "d2ac77ef",
   "metadata": {
    "id": "d2ac77ef"
   },
   "source": [
    "Let $\\mu_1, \\mu_2$ be the time spent on the old landing page and the new landing page respectively.\n",
    "\n",
    "We will test the null hypothesis\n",
    "\n",
    ">$H_0:\\mu_1=\\mu_2$\n",
    "\n",
    "against the alternate hypothesis\n",
    "\n",
    ">$H_a:\\mu_1\\neq\\mu_2$"
   ]
  },
  {
   "cell_type": "markdown",
   "id": "c7ee4907",
   "metadata": {
    "id": "c7ee4907"
   },
   "source": [
    "### Step 2: Select Appropriate test"
   ]
  },
  {
   "cell_type": "markdown",
   "id": "2c183cd7",
   "metadata": {
    "id": "2c183cd7"
   },
   "source": [
    "#### Two Independent Sample T-test for Equality of Means - Unequal Std Dev"
   ]
  },
  {
   "cell_type": "markdown",
   "id": "3f58c9a7",
   "metadata": {
    "id": "3f58c9a7"
   },
   "source": [
    "### Step 3: Decide the significance level"
   ]
  },
  {
   "cell_type": "markdown",
   "id": "92d7d7ee",
   "metadata": {
    "id": "92d7d7ee"
   },
   "source": [
    "$\\alpha$ 0.05 significance level"
   ]
  },
  {
   "cell_type": "markdown",
   "id": "5fed2eac",
   "metadata": {
    "id": "5fed2eac"
   },
   "source": [
    "### Step 4: Collect and prepare data"
   ]
  },
  {
   "cell_type": "code",
   "execution_count": 20,
   "id": "d01ca5d8",
   "metadata": {},
   "outputs": [
    {
     "name": "stdout",
     "output_type": "stream",
     "text": [
      "The mean time spent on the old landing page is 4.53\n",
      "The mean time spent on the new landing page is 6.22\n",
      "The standard deviation for the time spent on the old landing page is 2.58\n",
      "The standard deviation for the time spent on the new landing page is 1.82\n"
     ]
    }
   ],
   "source": [
    "#Calculating the means and standard deviations for the two independent sample t-test.\n",
    "\n",
    "old_page_time_mean = abtest[abtest[\"landing_page\"]==\"old\"].mean(numeric_only=True)\n",
    "print(\"The mean time spent on the old landing page is \" + str(round(old_page_time_mean[\"time_spent_on_the_page\"],2)))\n",
    "\n",
    "new_page_time_mean = abtest[abtest[\"landing_page\"]==\"new\"].mean(numeric_only=True)\n",
    "print(\"The mean time spent on the new landing page is \" + str(round(new_page_time_mean[\"time_spent_on_the_page\"],2)))\n",
    "\n",
    "old_page_time_std = abtest[abtest[\"landing_page\"]==\"old\"].std(numeric_only=True)\n",
    "print(\"The standard deviation for the time spent on the old landing page is \" + str(round(old_page_time_std[\"time_spent_on_the_page\"],2)))\n",
    "\n",
    "new_page_time_std = abtest[abtest[\"landing_page\"]==\"new\"].std(numeric_only=True)\n",
    "print(\"The standard deviation for the time spent on the new landing page is \" + str(round(new_page_time_std[\"time_spent_on_the_page\"],2)))"
   ]
  },
  {
   "cell_type": "markdown",
   "id": "a0051645",
   "metadata": {},
   "source": [
    "#### Observations\n",
    "\n",
    "* Standard deviations are not equal, therefore the population standard deviations may be assumed to be different."
   ]
  },
  {
   "cell_type": "code",
   "execution_count": 21,
   "id": "25fed239",
   "metadata": {},
   "outputs": [],
   "source": [
    "#Splitting time spent on page into 2 groups. New landing page and old landing page\n",
    "\n",
    "old_page = abtest[abtest[\"landing_page\"]==\"old\"]\n",
    "new_page = abtest[abtest[\"landing_page\"]==\"new\"]"
   ]
  },
  {
   "cell_type": "markdown",
   "id": "f5c5258d",
   "metadata": {
    "id": "f5c5258d"
   },
   "source": [
    "### Step 5: Calculate the p-value"
   ]
  },
  {
   "cell_type": "code",
   "execution_count": 22,
   "id": "fac8594a",
   "metadata": {
    "id": "fac8594a"
   },
   "outputs": [
    {
     "name": "stdout",
     "output_type": "stream",
     "text": [
      "The p-value is  0.0002784762450333098\n"
     ]
    }
   ],
   "source": [
    "from scipy.stats import ttest_ind\n",
    "\n",
    "test_stat, p_value = ttest_ind(old_page[\"time_spent_on_the_page\"], new_page[\"time_spent_on_the_page\"], equal_var = False, alternative = 'two-sided')\n",
    "print('The p-value is ', p_value)"
   ]
  },
  {
   "cell_type": "markdown",
   "id": "359b12f8",
   "metadata": {
    "id": "359b12f8"
   },
   "source": [
    "### Step 6: Compare the p-value with $\\alpha$"
   ]
  },
  {
   "cell_type": "code",
   "execution_count": 23,
   "id": "86e1660b",
   "metadata": {},
   "outputs": [
    {
     "name": "stdout",
     "output_type": "stream",
     "text": [
      "As the p-value 0.0002784762450333098 is less than the level of significance, we reject the null hypothesis.\n"
     ]
    }
   ],
   "source": [
    "if p_value < 0.05:\n",
    "    print(f'As the p-value {p_value} is less than the level of significance, we reject the null hypothesis.')\n",
    "else:\n",
    "    print(f'As the p-value {p_value} is greater than the level of significance, we fail to reject the null hypothesis.')"
   ]
  },
  {
   "cell_type": "markdown",
   "id": "d9affc84",
   "metadata": {
    "id": "d9affc84"
   },
   "source": [
    "### Step 7:  Draw inference"
   ]
  },
  {
   "cell_type": "markdown",
   "id": "6b16dd4b",
   "metadata": {
    "id": "6b16dd4b"
   },
   "source": [
    "### Insight\n",
    "\n",
    "As the p-value(~0.0003) is less than the level of significance, we can reject the null hypothesis. Hence, we have enough evidence to conclude that the means between time spent on the new landing page versus the old landing page is different at 0.05 significance level."
   ]
  },
  {
   "cell_type": "markdown",
   "id": "1ad0823a",
   "metadata": {
    "id": "1ad0823a"
   },
   "source": [
    "**A similar approach can be followed to answer the other questions.**"
   ]
  },
  {
   "cell_type": "markdown",
   "id": "353e9d24",
   "metadata": {
    "id": "353e9d24"
   },
   "source": [
    "## 3. Is the conversion rate (the proportion of users who visit the landing page and get converted) for the new page greater than the conversion rate for the old page? (10 Marks)"
   ]
  },
  {
   "cell_type": "markdown",
   "id": "947aac0f",
   "metadata": {
    "id": "b7f52898"
   },
   "source": [
    "### Perform Visual Analysis"
   ]
  },
  {
   "cell_type": "code",
   "execution_count": 24,
   "id": "eb01d96f",
   "metadata": {},
   "outputs": [],
   "source": [
    "abtest_converted_df = abtest[abtest[\"converted\"]==\"yes\"].copy()"
   ]
  },
  {
   "cell_type": "code",
   "execution_count": 25,
   "id": "ede78642",
   "metadata": {
    "scrolled": true
   },
   "outputs": [
    {
     "data": {
      "text/plain": [
       "<AxesSubplot:xlabel='landing_page', ylabel='count'>"
      ]
     },
     "execution_count": 25,
     "metadata": {},
     "output_type": "execute_result"
    },
    {
     "data": {
      "image/png": "[encoded data removed]",
      "text/plain": [
       "<Figure size 432x288 with 1 Axes>"
      ]
     },
     "metadata": {
      "needs_background": "light"
     },
     "output_type": "display_data"
    }
   ],
   "source": [
    "sns.countplot(data = abtest_converted_df, x = 'landing_page')"
   ]
  },
  {
   "cell_type": "markdown",
   "id": "65620a4a",
   "metadata": {},
   "source": [
    "#### Observations\n",
    "\n",
    "* The graph seems to suggest that users who visit the new landing page are more likely to be converted. However, let's confirm this with a hypothesis test. "
   ]
  },
  {
   "cell_type": "markdown",
   "id": "518ea53a",
   "metadata": {},
   "source": [
    "### Step 1: Define the null and alternate hypotheses"
   ]
  },
  {
   "cell_type": "markdown",
   "id": "c4936206",
   "metadata": {},
   "source": [
    "Let $p$ be the proportion of users who were converted after visiting the new landing page.\n",
    "\n",
    "The researcher will test the null hypothesis\n",
    "\n",
    ">$H_0:p \\leq 0.5$\n",
    "\n",
    "against the alternate hypothesis\n",
    "\n",
    ">$H_a:p > 0.5$"
   ]
  },
  {
   "cell_type": "markdown",
   "id": "c6f02060",
   "metadata": {},
   "source": [
    "### Step 2: Select Appropriate test"
   ]
  },
  {
   "cell_type": "markdown",
   "id": "c83c5343",
   "metadata": {},
   "source": [
    "#### One proportion z test"
   ]
  },
  {
   "cell_type": "markdown",
   "id": "7926b885",
   "metadata": {},
   "source": [
    "### Step 3: Decide the significance level"
   ]
  },
  {
   "cell_type": "markdown",
   "id": "6ff0ca47",
   "metadata": {},
   "source": [
    "$\\alpha$ 0.05 significance level"
   ]
  },
  {
   "cell_type": "markdown",
   "id": "530b9f1c",
   "metadata": {},
   "source": [
    "### Step 4: Collect and prepare data"
   ]
  },
  {
   "cell_type": "code",
   "execution_count": 26,
   "id": "4286d645",
   "metadata": {},
   "outputs": [
    {
     "name": "stdout",
     "output_type": "stream",
     "text": [
      "Number of users who visited the old landing page and were converted: 21\n",
      "Number of users who visited the new landing page and were converted: 33\n"
     ]
    }
   ],
   "source": [
    "#Calculating the means for the one proportion z-test.\n",
    "\n",
    "old_page_converted = abtest[(abtest[\"landing_page\"]==\"old\") & (abtest[\"converted\"]==\"yes\")]\n",
    "print(\"Number of users who visited the old landing page and were converted: \" + str(old_page_converted[\"converted\"].count()))\n",
    "\n",
    "new_page_converted = abtest[(abtest[\"landing_page\"]==\"new\") & (abtest[\"converted\"]==\"yes\")]\n",
    "print(\"Number of users who visited the new landing page and were converted: \" + str(new_page_converted[\"converted\"].count()))"
   ]
  },
  {
   "cell_type": "markdown",
   "id": "67abe774",
   "metadata": {},
   "source": [
    "### Step 5: Calculate the p-value"
   ]
  },
  {
   "cell_type": "code",
   "execution_count": 27,
   "id": "b95c64e4",
   "metadata": {},
   "outputs": [
    {
     "name": "stdout",
     "output_type": "stream",
     "text": [
      "The p-value is 0.051716823228504266\n"
     ]
    }
   ],
   "source": [
    "from statsmodels.stats.proportion import proportions_ztest\n",
    "\n",
    "\n",
    "test_stat, p_value = proportions_ztest(21, 33, value = 0.5, alternative = 'larger')\n",
    "print('The p-value is ' + str(p_value))"
   ]
  },
  {
   "cell_type": "markdown",
   "id": "33c2a8da",
   "metadata": {},
   "source": [
    "### Step 6: Compare the p-value with $\\alpha$"
   ]
  },
  {
   "cell_type": "code",
   "execution_count": 28,
   "id": "5cb3eafb",
   "metadata": {},
   "outputs": [
    {
     "name": "stdout",
     "output_type": "stream",
     "text": [
      "As the p-value 0.051716823228504266 is greater than the level of significance, we fail to reject the null hypothesis.\n"
     ]
    }
   ],
   "source": [
    "if p_value < 0.05:\n",
    "    print(f'As the p-value {p_value} is less than the level of significance, we reject the null hypothesis.')\n",
    "else:\n",
    "    print(f'As the p-value {p_value} is greater than the level of significance, we fail to reject the null hypothesis.')"
   ]
  },
  {
   "cell_type": "markdown",
   "id": "5db06e21",
   "metadata": {},
   "source": [
    "### Step 7:  Draw inference"
   ]
  },
  {
   "cell_type": "markdown",
   "id": "150e4795",
   "metadata": {},
   "source": [
    "### Insight\n",
    "As the p-value(~0.052) is more than the level of significance, we cannot reject the null hypothesis. Hence, we do not have enough evidence to conclude that the users which visited the new landing page were more likely to be converted compared to the users which visited the old landing page at 0.05 significance level."
   ]
  },
  {
   "cell_type": "markdown",
   "id": "d49bfa2d",
   "metadata": {
    "id": "d49bfa2d"
   },
   "source": [
    "## 4. Is the conversion and preferred language are independent or related? (10 Marks)"
   ]
  },
  {
   "cell_type": "markdown",
   "id": "6f7af994",
   "metadata": {
    "id": "b0e63f17"
   },
   "source": [
    "### Perform Visual Analysis"
   ]
  },
  {
   "cell_type": "code",
   "execution_count": 29,
   "id": "bcdeb2cf",
   "metadata": {
    "scrolled": true
   },
   "outputs": [
    {
     "data": {
      "text/plain": [
       "<matplotlib.legend.Legend at 0x17170aaf8b0>"
      ]
     },
     "execution_count": 29,
     "metadata": {},
     "output_type": "execute_result"
    },
    {
     "data": {
      "image/png": "[encoded data removed]",
      "text/plain": [
       "<Figure size 432x288 with 1 Axes>"
      ]
     },
     "metadata": {
      "needs_background": "light"
     },
     "output_type": "display_data"
    }
   ],
   "source": [
    "sns.countplot(data=abtest,x=\"converted\",hue=\"language_preferred\")\n",
    "plt.legend(loc='center left', bbox_to_anchor=(1.0, 0.5))"
   ]
  },
  {
   "cell_type": "markdown",
   "id": "7722ed84",
   "metadata": {},
   "source": [
    "#### Observations\n",
    "\n",
    "* The graph does not seems to suggest that a user's language preferrence is related to being converted.\n",
    "* French users seem to be less likely to be converted, while English users seem to be more likely to be converted, and no trends for Spanish users. This suggests not discernible pattern.\n",
    "* However, let's confirm this with a hypothesis test. "
   ]
  },
  {
   "cell_type": "markdown",
   "id": "5d3291ea",
   "metadata": {},
   "source": [
    "### Step 1: Define the null and alternate hypotheses"
   ]
  },
  {
   "cell_type": "markdown",
   "id": "6512fc16",
   "metadata": {},
   "source": [
    "Null hypothesis\n",
    "\n",
    ">$H_0:$ Conversion and preferred language are independent.\n",
    "\n",
    "against the alternate hypothesis\n",
    "\n",
    ">$H_a:$ Conversion and preferred language are related."
   ]
  },
  {
   "cell_type": "markdown",
   "id": "9d641f3b",
   "metadata": {},
   "source": [
    "### Step 2: Select Appropriate test"
   ]
  },
  {
   "cell_type": "markdown",
   "id": "78edf36a",
   "metadata": {},
   "source": [
    "#### Chi-Square Test for Independence"
   ]
  },
  {
   "cell_type": "markdown",
   "id": "dd266379",
   "metadata": {},
   "source": [
    "### Step 3: Decide the significance level"
   ]
  },
  {
   "cell_type": "markdown",
   "id": "82317c29",
   "metadata": {},
   "source": [
    "$\\alpha$ 0.05 significance level"
   ]
  },
  {
   "cell_type": "markdown",
   "id": "c661af7e",
   "metadata": {},
   "source": [
    "### Step 4: Collect and prepare data"
   ]
  },
  {
   "cell_type": "code",
   "execution_count": 30,
   "id": "d6255380",
   "metadata": {},
   "outputs": [
    {
     "data": {
      "text/html": [
       "<div>\n",
       "<style scoped>\n",
       "    .dataframe tbody tr th:only-of-type {\n",
       "        vertical-align: middle;\n",
       "    }\n",
       "\n",
       "    .dataframe tbody tr th {\n",
       "        vertical-align: top;\n",
       "    }\n",
       "\n",
       "    .dataframe thead th {\n",
       "        text-align: right;\n",
       "    }\n",
       "</style>\n",
       "<table border=\"1\" class=\"dataframe\">\n",
       "  <thead>\n",
       "    <tr style=\"text-align: right;\">\n",
       "      <th></th>\n",
       "      <th>language</th>\n",
       "      <th>no</th>\n",
       "      <th>yes</th>\n",
       "    </tr>\n",
       "  </thead>\n",
       "  <tbody>\n",
       "    <tr>\n",
       "      <th>0</th>\n",
       "      <td>Spanish</td>\n",
       "      <td>16</td>\n",
       "      <td>18</td>\n",
       "    </tr>\n",
       "    <tr>\n",
       "      <th>1</th>\n",
       "      <td>English</td>\n",
       "      <td>11</td>\n",
       "      <td>21</td>\n",
       "    </tr>\n",
       "    <tr>\n",
       "      <th>2</th>\n",
       "      <td>French</td>\n",
       "      <td>19</td>\n",
       "      <td>15</td>\n",
       "    </tr>\n",
       "  </tbody>\n",
       "</table>\n",
       "</div>"
      ],
      "text/plain": [
       "  language  no  yes\n",
       "0  Spanish  16   18\n",
       "1  English  11   21\n",
       "2   French  19   15"
      ]
     },
     "execution_count": 30,
     "metadata": {},
     "output_type": "execute_result"
    }
   ],
   "source": [
    "#Reorganizing the excel data sheet for Chi-squared test\n",
    "\n",
    "abtest_converted_language_data = pd.read_csv(\"abtest - converted and language.csv\")\n",
    "abtest_converted_language_df = pd.DataFrame(abtest_converted_language_data)\n",
    "abtest_converted_language_df"
   ]
  },
  {
   "cell_type": "code",
   "execution_count": 31,
   "id": "8dfea90a",
   "metadata": {},
   "outputs": [
    {
     "data": {
      "text/plain": [
       "language    object\n",
       "no           int64\n",
       "yes          int64\n",
       "dtype: object"
      ]
     },
     "execution_count": 31,
     "metadata": {},
     "output_type": "execute_result"
    }
   ],
   "source": [
    "abtest_converted_language_df.dtypes"
   ]
  },
  {
   "cell_type": "markdown",
   "id": "dca4a1ca",
   "metadata": {},
   "source": [
    "### Step 5: Calculate the p-value"
   ]
  },
  {
   "cell_type": "code",
   "execution_count": 32,
   "id": "061da7fe",
   "metadata": {},
   "outputs": [
    {
     "name": "stdout",
     "output_type": "stream",
     "text": [
      "The p-value is 0.21298887487543447\n"
     ]
    }
   ],
   "source": [
    "from scipy.stats import chi2_contingency\n",
    "\n",
    "chi, p_value, dof, expected = chi2_contingency(abtest_converted_language_df.drop(\"language\", axis = 1))\n",
    "print('The p-value is', p_value)"
   ]
  },
  {
   "cell_type": "markdown",
   "id": "009eb9fa",
   "metadata": {},
   "source": [
    "### Step 6: Compare the p-value with $\\alpha$"
   ]
  },
  {
   "cell_type": "code",
   "execution_count": 33,
   "id": "23862ed2",
   "metadata": {},
   "outputs": [
    {
     "name": "stdout",
     "output_type": "stream",
     "text": [
      "As the p-value 0.21298887487543447 is greater than the level of significance, we fail to reject the null hypothesis.\n"
     ]
    }
   ],
   "source": [
    "if p_value < 0.05:\n",
    "    print(f'As the p-value {p_value} is less than the level of significance, we reject the null hypothesis.')\n",
    "else:\n",
    "    print(f'As the p-value {p_value} is greater than the level of significance, we fail to reject the null hypothesis.')"
   ]
  },
  {
   "cell_type": "markdown",
   "id": "cb4dd5de",
   "metadata": {},
   "source": [
    "### Step 7:  Draw inference"
   ]
  },
  {
   "cell_type": "markdown",
   "id": "3a4b4dfe",
   "metadata": {},
   "source": [
    "As the p-value(~0.21) is more than the level of significance, we cannot reject the null hypothesis. Hence, we do not have enough evidence to conclude that converted users are related to language preferred at 0.05 significance level."
   ]
  },
  {
   "cell_type": "markdown",
   "id": "8d585a90",
   "metadata": {
    "id": "8d585a90"
   },
   "source": [
    "## 5. Is the time spent on the new page same for the different language users? (10 Marks)"
   ]
  },
  {
   "cell_type": "markdown",
   "id": "e103ac80",
   "metadata": {
    "id": "b422f395"
   },
   "source": [
    "### Perform Visual Analysis"
   ]
  },
  {
   "cell_type": "code",
   "execution_count": 34,
   "id": "7baec7b3",
   "metadata": {},
   "outputs": [],
   "source": [
    "page_language_df = abtest[abtest[\"landing_page\"]==\"new\"]"
   ]
  },
  {
   "cell_type": "code",
   "execution_count": 35,
   "id": "61141b17",
   "metadata": {
    "scrolled": false
   },
   "outputs": [
    {
     "data": {
      "text/plain": [
       "Text(0, 0.5, 'time_spent_on_the_new_landing_page')"
      ]
     },
     "execution_count": 35,
     "metadata": {},
     "output_type": "execute_result"
    },
    {
     "data": {
      "image/png": "[encoded data removed]",
      "text/plain": [
       "<Figure size 432x288 with 1 Axes>"
      ]
     },
     "metadata": {
      "needs_background": "light"
     },
     "output_type": "display_data"
    }
   ],
   "source": [
    "sns.boxplot(data = page_language_df, y = \"time_spent_on_the_page\", x = 'language_preferred')\n",
    "plt.ylabel(\"time_spent_on_the_new_landing_page\")"
   ]
  },
  {
   "cell_type": "markdown",
   "id": "1bb0b255",
   "metadata": {},
   "source": [
    "#### Observations\n",
    "\n",
    "* The graph does not seems to suggest that a user's language preferrence is related to time being spent on the new landing page. However, let's confirm this with a hypothesis test. "
   ]
  },
  {
   "cell_type": "markdown",
   "id": "5d8d2c68",
   "metadata": {},
   "source": [
    "### Step 1: Define the null and alternate hypotheses"
   ]
  },
  {
   "cell_type": "markdown",
   "id": "18c54f55",
   "metadata": {},
   "source": [
    "Let $\\mu_1, \\mu_2, \\mu_3$ be the means of time spent on the new landing page for English, French, and Spanish users respectively.\n",
    "\n",
    "We will test the null hypothesis\n",
    "\n",
    ">$H_0: \\mu_1 = \\mu_2 = \\mu_3$\n",
    "\n",
    "against the alternative hypothesis\n",
    "\n",
    ">$H_a: $ At least one of the preferred languages is spending time differently on the landing page from the rest."
   ]
  },
  {
   "cell_type": "markdown",
   "id": "cb2d5273",
   "metadata": {},
   "source": [
    "### Step 2: Select Appropriate test"
   ]
  },
  {
   "cell_type": "markdown",
   "id": "1a759741",
   "metadata": {},
   "source": [
    "#### One-way ANOVA test"
   ]
  },
  {
   "cell_type": "markdown",
   "id": "303f75be",
   "metadata": {},
   "source": [
    "### Step 3: Decide the significance level"
   ]
  },
  {
   "cell_type": "markdown",
   "id": "0bb2aeb3",
   "metadata": {},
   "source": [
    "$\\alpha$ 0.05 significance level"
   ]
  },
  {
   "cell_type": "markdown",
   "id": "ef8b118f",
   "metadata": {},
   "source": [
    "### Step 4: Collect and prepare data"
   ]
  },
  {
   "cell_type": "code",
   "execution_count": 36,
   "id": "004228fa",
   "metadata": {},
   "outputs": [
    {
     "data": {
      "text/plain": [
       "language_preferred\n",
       "English    6.663750\n",
       "French     6.196471\n",
       "Spanish    5.835294\n",
       "Name: time_spent_on_the_page, dtype: float64"
      ]
     },
     "execution_count": 36,
     "metadata": {},
     "output_type": "execute_result"
    }
   ],
   "source": [
    "page_language_df.groupby(\"language_preferred\")[\"time_spent_on_the_page\"].mean()"
   ]
  },
  {
   "cell_type": "markdown",
   "id": "fa5b9570",
   "metadata": {},
   "source": [
    "### Step 5: Testing for normality using Shapiro-Wilk's test"
   ]
  },
  {
   "cell_type": "markdown",
   "id": "ecf0adf6",
   "metadata": {},
   "source": [
    "We will test the null hypothesis\n",
    "\n",
    ">$H_0:$ Time spent on the new page follows a normal distribution against\n",
    "\n",
    "against the alternative hypothesis\n",
    "\n",
    ">$H_a:$ Time spent on the new page does not follow a normal distribution"
   ]
  },
  {
   "cell_type": "code",
   "execution_count": 37,
   "id": "5e646ae6",
   "metadata": {},
   "outputs": [
    {
     "name": "stdout",
     "output_type": "stream",
     "text": [
      "The p-value is 0.8040016293525696\n"
     ]
    }
   ],
   "source": [
    "from scipy import stats\n",
    "\n",
    "w, p_value = stats.shapiro(page_language_df[\"time_spent_on_the_page\"]) \n",
    "print('The p-value is', p_value)"
   ]
  },
  {
   "cell_type": "markdown",
   "id": "c62889ed",
   "metadata": {},
   "source": [
    "Since p-value of the test is very large, we fail to reject the null hypothesis that the response follows the normal distribution."
   ]
  },
  {
   "cell_type": "markdown",
   "id": "bced523b",
   "metadata": {},
   "source": [
    "### Step 6: Testing for equality of variance using Levene test"
   ]
  },
  {
   "cell_type": "markdown",
   "id": "3d8f9696",
   "metadata": {},
   "source": [
    "We will test the null hypothesis\n",
    "\n",
    ">$H_0$: All the population variances are equal\n",
    "\n",
    "against the alternative hypothesis\n",
    "\n",
    ">$H_a$: At least one variance is different from the rest"
   ]
  },
  {
   "cell_type": "code",
   "execution_count": 38,
   "id": "ed84bf3e",
   "metadata": {},
   "outputs": [
    {
     "name": "stdout",
     "output_type": "stream",
     "text": [
      "The p-value is 0.46711357711340173\n"
     ]
    }
   ],
   "source": [
    "from scipy.stats import levene\n",
    "statistic, p_value = levene(page_language_df[\"time_spent_on_the_page\"][page_language_df[\"language_preferred\"]==\"English\"], \n",
    "                                   page_language_df[\"time_spent_on_the_page\"][page_language_df[\"language_preferred\"]==\"French\"], \n",
    "                                   page_language_df[\"time_spent_on_the_page\"][page_language_df[\"language_preferred\"]==\"Spanish\"])\n",
    "\n",
    "print('The p-value is', p_value)"
   ]
  },
  {
   "cell_type": "markdown",
   "id": "048df0f2",
   "metadata": {},
   "source": [
    "Since the p-value is large, we fail to reject the null hypothesis of homogeneity of variances."
   ]
  },
  {
   "cell_type": "markdown",
   "id": "ad5fe5ee",
   "metadata": {},
   "source": [
    "### Step 7: Calculate the p-value"
   ]
  },
  {
   "cell_type": "code",
   "execution_count": 39,
   "id": "a7ec4adf",
   "metadata": {},
   "outputs": [
    {
     "name": "stdout",
     "output_type": "stream",
     "text": [
      "The p-value is 0.43204138694325955\n"
     ]
    }
   ],
   "source": [
    "from scipy.stats import f_oneway\n",
    "\n",
    "test_stat, p_value = f_oneway(page_language_df.loc[page_language_df[\"language_preferred\"] == \"English\", \"time_spent_on_the_page\"],\n",
    "                              page_language_df.loc[page_language_df[\"language_preferred\"] == \"French\", \"time_spent_on_the_page\"],\n",
    "                              page_language_df.loc[page_language_df[\"language_preferred\"] == \"Spanish\", \"time_spent_on_the_page\"])\n",
    "print('The p-value is ' + str(p_value))"
   ]
  },
  {
   "cell_type": "markdown",
   "id": "67422907",
   "metadata": {},
   "source": [
    "### Step 8: Compare the p-value with $\\alpha$"
   ]
  },
  {
   "cell_type": "code",
   "execution_count": 40,
   "id": "58c919a3",
   "metadata": {},
   "outputs": [
    {
     "name": "stdout",
     "output_type": "stream",
     "text": [
      "As the p-value 0.43204138694325955 is greater than the level of significance, we fail to reject the null hypothesis.\n"
     ]
    }
   ],
   "source": [
    "if p_value < 0.05:\n",
    "    print(f'As the p-value {p_value} is less than the level of significance, we reject the null hypothesis.')\n",
    "else:\n",
    "    print(f'As the p-value {p_value} is greater than the level of significance, we fail to reject the null hypothesis.')"
   ]
  },
  {
   "cell_type": "markdown",
   "id": "98d4058d",
   "metadata": {},
   "source": [
    "### Step 9:  Draw inference"
   ]
  },
  {
   "cell_type": "markdown",
   "id": "5c918b0e",
   "metadata": {},
   "source": [
    "As the p-value(~0.43) is more than the level of significance, we cannot reject the null hypothesis. Hence, we do not have enough evidence to conclude that at least one of the preferred languages is spending time differently on the landing page from the rest. at 0.05 significance level."
   ]
  },
  {
   "cell_type": "markdown",
   "id": "3acbc947",
   "metadata": {
    "id": "3acbc947"
   },
   "source": [
    "## Conclusion and Business Recommendations"
   ]
  },
  {
   "cell_type": "markdown",
   "id": "21fb1063",
   "metadata": {
    "id": "21fb1063"
   },
   "source": [
    "#### Conclusion\n",
    "\n",
    "Users spent more time on the new landing page versus the old landing page. \n",
    "\n",
    "The users who visit the new landing page were not more likely to subscribe than those who visit the old landing page.\n",
    "\n",
    "User's preferred language is independent from how likely someone is to subscribe.\n",
    "\n",
    "Time spent on the landing page does not vary depending on the user's preferred language.\n",
    "\n",
    "#### Business Recommendations\n",
    "\n",
    "Users spending more time on the new landing page versus the old landing page is a indicator that the new landing page is a improvement on the old landing page. \n",
    "\n",
    "Although users who visit the new landing page were not more likely to subscribe than those who visit the old landing page, the graph does show that users who visited the landing page were more likely to subscribe. But not at a 5% significance level. It would be recommended to re-test this hypothesis but with a larger sample size. A larger sample will provide results with a smaller margin of error. "
   ]
  }
 ],
 "metadata": {
  "colab": {
   "collapsed_sections": [],
   "name": "ENews_Express_Learner_Notebook[Full Code Version].ipynb",
   "provenance": []
  },
  "kernelspec": {
   "display_name": "Python 3 (ipykernel)",
   "language": "python",
   "name": "python3"
  },
  "language_info": {
   "codemirror_mode": {
    "name": "ipython",
    "version": 3
   },
   "file_extension": ".py",
   "mimetype": "text/x-python",
   "name": "python",
   "nbconvert_exporter": "python",
   "pygments_lexer": "ipython3",
   "version": "3.9.7"
  }
 },
 "nbformat": 4,
 "nbformat_minor": 5
}
